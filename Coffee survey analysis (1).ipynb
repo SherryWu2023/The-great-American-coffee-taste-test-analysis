{
 "cells": [
  {
   "cell_type": "markdown",
   "id": "ba78077a",
   "metadata": {},
   "source": [
    "# Coffee survey analysis"
   ]
  },
  {
   "cell_type": "markdown",
   "id": "49ac2faa",
   "metadata": {},
   "source": [
    "## Introduction"
   ]
  },
  {
   "cell_type": "markdown",
   "id": "d63d380e",
   "metadata": {},
   "source": [
    "A group of investors looking to break into the US coffee market.They would like to leverage insights from \"The Great American Coffee Taste Test\".Our team has been asked to share an explanatory report providing a data-driven strategy for opening their first coffee shop. The investors expressed interest in the following areas, but are open to any additional insights and recommendations :\n",
    "\n",
    "1)Target audience: What type of customer should we target, and what are their preferences?                                               2)Product offering: What types of coffee beans and drinks should we offer?\n",
    "3)Pricing strategy: How can we align prices with customer value perception?"
   ]
  },
  {
   "cell_type": "code",
   "execution_count": 1,
   "id": "92a10fc1",
   "metadata": {},
   "outputs": [],
   "source": [
    "import pandas as pd\n",
    "import seaborn as sns\n",
    "import numpy as np\n",
    "import matplotlib.pyplot as plt"
   ]
  },
  {
   "cell_type": "code",
   "execution_count": 2,
   "id": "b7b84951",
   "metadata": {},
   "outputs": [],
   "source": [
    "df=pd.read_csv(r\"C:\\Users\\syuan\\Downloads\\coffee_analysis_cleaned.csv\")"
   ]
  },
  {
   "cell_type": "code",
   "execution_count": 3,
   "id": "6c6aaa0e",
   "metadata": {},
   "outputs": [
    {
     "name": "stdout",
     "output_type": "stream",
     "text": [
      "<class 'pandas.core.frame.DataFrame'>\n",
      "RangeIndex: 4042 entries, 0 to 4041\n",
      "Columns: 101 entries, Submission ID to Political Affiliation\n",
      "dtypes: float64(61), object(40)\n",
      "memory usage: 3.1+ MB\n"
     ]
    }
   ],
   "source": [
    "df.info()"
   ]
  },
  {
   "cell_type": "code",
   "execution_count": 4,
   "id": "63ae3c8c",
   "metadata": {},
   "outputs": [
    {
     "data": {
      "text/plain": [
       "Submission ID               0\n",
       "Age group                  31\n",
       "Cup per day                93\n",
       "Drink at home              67\n",
       "Drink at office            67\n",
       "                         ... \n",
       "Education Level           604\n",
       "Ethnicity/Race            624\n",
       "Employment Status         623\n",
       "Number of Children       3186\n",
       "Political Affiliation     753\n",
       "Length: 101, dtype: int64"
      ]
     },
     "execution_count": 4,
     "metadata": {},
     "output_type": "execute_result"
    }
   ],
   "source": [
    "df.isnull().sum()"
   ]
  },
  {
   "cell_type": "code",
   "execution_count": 5,
   "id": "dea5afa9",
   "metadata": {},
   "outputs": [
    {
     "data": {
      "text/html": [
       "<div>\n",
       "<style scoped>\n",
       "    .dataframe tbody tr th:only-of-type {\n",
       "        vertical-align: middle;\n",
       "    }\n",
       "\n",
       "    .dataframe tbody tr th {\n",
       "        vertical-align: top;\n",
       "    }\n",
       "\n",
       "    .dataframe thead th {\n",
       "        text-align: right;\n",
       "    }\n",
       "</style>\n",
       "<table border=\"1\" class=\"dataframe\">\n",
       "  <thead>\n",
       "    <tr style=\"text-align: right;\">\n",
       "      <th></th>\n",
       "      <th>Drink at home</th>\n",
       "      <th>Drink at office</th>\n",
       "      <th>On the go</th>\n",
       "      <th>Drink at a café</th>\n",
       "      <th>Drink elsewhere</th>\n",
       "      <th>Pour over at home</th>\n",
       "      <th>Frencg press at home</th>\n",
       "      <th>Espresso at home</th>\n",
       "      <th>Coffee brewing machine at home</th>\n",
       "      <th>Pod/capsule machine at home</th>\n",
       "      <th>...</th>\n",
       "      <th>Coffee C - Acidity</th>\n",
       "      <th>Coffee C - Personal Preference</th>\n",
       "      <th>Coffee D - Bitterness</th>\n",
       "      <th>Coffee D - Acidity</th>\n",
       "      <th>Coffee D - Personal Preference</th>\n",
       "      <th>It tastes good</th>\n",
       "      <th>I need the caffeine</th>\n",
       "      <th>I need the ritual</th>\n",
       "      <th>Coffee makes me go to the bathroom</th>\n",
       "      <th>Other reasons to drink coffee</th>\n",
       "    </tr>\n",
       "  </thead>\n",
       "  <tbody>\n",
       "    <tr>\n",
       "      <th>count</th>\n",
       "      <td>3975.000000</td>\n",
       "      <td>3975.000000</td>\n",
       "      <td>3975.000000</td>\n",
       "      <td>3975.000000</td>\n",
       "      <td>3975.000000</td>\n",
       "      <td>3661.000000</td>\n",
       "      <td>3661.000000</td>\n",
       "      <td>3661.000000</td>\n",
       "      <td>3661.000000</td>\n",
       "      <td>3661.000000</td>\n",
       "      <td>...</td>\n",
       "      <td>3751.000000</td>\n",
       "      <td>3766.000000</td>\n",
       "      <td>3767.000000</td>\n",
       "      <td>3765.000000</td>\n",
       "      <td>3764.000000</td>\n",
       "      <td>3570.000000</td>\n",
       "      <td>3570.000000</td>\n",
       "      <td>3570.000000</td>\n",
       "      <td>3570.000000</td>\n",
       "      <td>3570.000000</td>\n",
       "    </tr>\n",
       "    <tr>\n",
       "      <th>mean</th>\n",
       "      <td>0.916730</td>\n",
       "      <td>0.359748</td>\n",
       "      <td>0.177358</td>\n",
       "      <td>0.294340</td>\n",
       "      <td>0.009057</td>\n",
       "      <td>0.626878</td>\n",
       "      <td>0.200765</td>\n",
       "      <td>0.414641</td>\n",
       "      <td>0.181098</td>\n",
       "      <td>0.091778</td>\n",
       "      <td>...</td>\n",
       "      <td>2.366836</td>\n",
       "      <td>3.064790</td>\n",
       "      <td>2.162729</td>\n",
       "      <td>3.858167</td>\n",
       "      <td>3.375930</td>\n",
       "      <td>0.939776</td>\n",
       "      <td>0.566106</td>\n",
       "      <td>0.538375</td>\n",
       "      <td>0.130252</td>\n",
       "      <td>0.047059</td>\n",
       "    </tr>\n",
       "    <tr>\n",
       "      <th>std</th>\n",
       "      <td>0.276325</td>\n",
       "      <td>0.479987</td>\n",
       "      <td>0.382020</td>\n",
       "      <td>0.455803</td>\n",
       "      <td>0.094746</td>\n",
       "      <td>0.483700</td>\n",
       "      <td>0.400627</td>\n",
       "      <td>0.492727</td>\n",
       "      <td>0.385152</td>\n",
       "      <td>0.288752</td>\n",
       "      <td>...</td>\n",
       "      <td>0.921048</td>\n",
       "      <td>1.128431</td>\n",
       "      <td>1.081546</td>\n",
       "      <td>1.007973</td>\n",
       "      <td>1.452504</td>\n",
       "      <td>0.237935</td>\n",
       "      <td>0.495680</td>\n",
       "      <td>0.498595</td>\n",
       "      <td>0.336628</td>\n",
       "      <td>0.211794</td>\n",
       "    </tr>\n",
       "    <tr>\n",
       "      <th>min</th>\n",
       "      <td>0.000000</td>\n",
       "      <td>0.000000</td>\n",
       "      <td>0.000000</td>\n",
       "      <td>0.000000</td>\n",
       "      <td>0.000000</td>\n",
       "      <td>0.000000</td>\n",
       "      <td>0.000000</td>\n",
       "      <td>0.000000</td>\n",
       "      <td>0.000000</td>\n",
       "      <td>0.000000</td>\n",
       "      <td>...</td>\n",
       "      <td>1.000000</td>\n",
       "      <td>1.000000</td>\n",
       "      <td>1.000000</td>\n",
       "      <td>1.000000</td>\n",
       "      <td>1.000000</td>\n",
       "      <td>0.000000</td>\n",
       "      <td>0.000000</td>\n",
       "      <td>0.000000</td>\n",
       "      <td>0.000000</td>\n",
       "      <td>0.000000</td>\n",
       "    </tr>\n",
       "    <tr>\n",
       "      <th>25%</th>\n",
       "      <td>1.000000</td>\n",
       "      <td>0.000000</td>\n",
       "      <td>0.000000</td>\n",
       "      <td>0.000000</td>\n",
       "      <td>0.000000</td>\n",
       "      <td>0.000000</td>\n",
       "      <td>0.000000</td>\n",
       "      <td>0.000000</td>\n",
       "      <td>0.000000</td>\n",
       "      <td>0.000000</td>\n",
       "      <td>...</td>\n",
       "      <td>2.000000</td>\n",
       "      <td>2.000000</td>\n",
       "      <td>1.000000</td>\n",
       "      <td>3.000000</td>\n",
       "      <td>2.000000</td>\n",
       "      <td>1.000000</td>\n",
       "      <td>0.000000</td>\n",
       "      <td>0.000000</td>\n",
       "      <td>0.000000</td>\n",
       "      <td>0.000000</td>\n",
       "    </tr>\n",
       "    <tr>\n",
       "      <th>50%</th>\n",
       "      <td>1.000000</td>\n",
       "      <td>0.000000</td>\n",
       "      <td>0.000000</td>\n",
       "      <td>0.000000</td>\n",
       "      <td>0.000000</td>\n",
       "      <td>1.000000</td>\n",
       "      <td>0.000000</td>\n",
       "      <td>0.000000</td>\n",
       "      <td>0.000000</td>\n",
       "      <td>0.000000</td>\n",
       "      <td>...</td>\n",
       "      <td>2.000000</td>\n",
       "      <td>3.000000</td>\n",
       "      <td>2.000000</td>\n",
       "      <td>4.000000</td>\n",
       "      <td>4.000000</td>\n",
       "      <td>1.000000</td>\n",
       "      <td>1.000000</td>\n",
       "      <td>1.000000</td>\n",
       "      <td>0.000000</td>\n",
       "      <td>0.000000</td>\n",
       "    </tr>\n",
       "    <tr>\n",
       "      <th>75%</th>\n",
       "      <td>1.000000</td>\n",
       "      <td>1.000000</td>\n",
       "      <td>0.000000</td>\n",
       "      <td>1.000000</td>\n",
       "      <td>0.000000</td>\n",
       "      <td>1.000000</td>\n",
       "      <td>0.000000</td>\n",
       "      <td>1.000000</td>\n",
       "      <td>0.000000</td>\n",
       "      <td>0.000000</td>\n",
       "      <td>...</td>\n",
       "      <td>3.000000</td>\n",
       "      <td>4.000000</td>\n",
       "      <td>3.000000</td>\n",
       "      <td>5.000000</td>\n",
       "      <td>5.000000</td>\n",
       "      <td>1.000000</td>\n",
       "      <td>1.000000</td>\n",
       "      <td>1.000000</td>\n",
       "      <td>0.000000</td>\n",
       "      <td>0.000000</td>\n",
       "    </tr>\n",
       "    <tr>\n",
       "      <th>max</th>\n",
       "      <td>1.000000</td>\n",
       "      <td>1.000000</td>\n",
       "      <td>1.000000</td>\n",
       "      <td>1.000000</td>\n",
       "      <td>1.000000</td>\n",
       "      <td>1.000000</td>\n",
       "      <td>1.000000</td>\n",
       "      <td>1.000000</td>\n",
       "      <td>1.000000</td>\n",
       "      <td>1.000000</td>\n",
       "      <td>...</td>\n",
       "      <td>5.000000</td>\n",
       "      <td>5.000000</td>\n",
       "      <td>5.000000</td>\n",
       "      <td>5.000000</td>\n",
       "      <td>5.000000</td>\n",
       "      <td>1.000000</td>\n",
       "      <td>1.000000</td>\n",
       "      <td>1.000000</td>\n",
       "      <td>1.000000</td>\n",
       "      <td>1.000000</td>\n",
       "    </tr>\n",
       "  </tbody>\n",
       "</table>\n",
       "<p>8 rows × 61 columns</p>\n",
       "</div>"
      ],
      "text/plain": [
       "       Drink at home  Drink at office    On the go  Drink at a café  \\\n",
       "count    3975.000000      3975.000000  3975.000000      3975.000000   \n",
       "mean        0.916730         0.359748     0.177358         0.294340   \n",
       "std         0.276325         0.479987     0.382020         0.455803   \n",
       "min         0.000000         0.000000     0.000000         0.000000   \n",
       "25%         1.000000         0.000000     0.000000         0.000000   \n",
       "50%         1.000000         0.000000     0.000000         0.000000   \n",
       "75%         1.000000         1.000000     0.000000         1.000000   \n",
       "max         1.000000         1.000000     1.000000         1.000000   \n",
       "\n",
       "       Drink elsewhere  Pour over at home  Frencg press at home  \\\n",
       "count      3975.000000        3661.000000           3661.000000   \n",
       "mean          0.009057           0.626878              0.200765   \n",
       "std           0.094746           0.483700              0.400627   \n",
       "min           0.000000           0.000000              0.000000   \n",
       "25%           0.000000           0.000000              0.000000   \n",
       "50%           0.000000           1.000000              0.000000   \n",
       "75%           0.000000           1.000000              0.000000   \n",
       "max           1.000000           1.000000              1.000000   \n",
       "\n",
       "       Espresso at home  Coffee brewing machine at home  \\\n",
       "count       3661.000000                     3661.000000   \n",
       "mean           0.414641                        0.181098   \n",
       "std            0.492727                        0.385152   \n",
       "min            0.000000                        0.000000   \n",
       "25%            0.000000                        0.000000   \n",
       "50%            0.000000                        0.000000   \n",
       "75%            1.000000                        0.000000   \n",
       "max            1.000000                        1.000000   \n",
       "\n",
       "       Pod/capsule machine at home  ...  Coffee C - Acidity  \\\n",
       "count                  3661.000000  ...         3751.000000   \n",
       "mean                      0.091778  ...            2.366836   \n",
       "std                       0.288752  ...            0.921048   \n",
       "min                       0.000000  ...            1.000000   \n",
       "25%                       0.000000  ...            2.000000   \n",
       "50%                       0.000000  ...            2.000000   \n",
       "75%                       0.000000  ...            3.000000   \n",
       "max                       1.000000  ...            5.000000   \n",
       "\n",
       "       Coffee C - Personal Preference  Coffee D - Bitterness  \\\n",
       "count                     3766.000000            3767.000000   \n",
       "mean                         3.064790               2.162729   \n",
       "std                          1.128431               1.081546   \n",
       "min                          1.000000               1.000000   \n",
       "25%                          2.000000               1.000000   \n",
       "50%                          3.000000               2.000000   \n",
       "75%                          4.000000               3.000000   \n",
       "max                          5.000000               5.000000   \n",
       "\n",
       "       Coffee D - Acidity  Coffee D - Personal Preference  It tastes good  \\\n",
       "count         3765.000000                     3764.000000     3570.000000   \n",
       "mean             3.858167                        3.375930        0.939776   \n",
       "std              1.007973                        1.452504        0.237935   \n",
       "min              1.000000                        1.000000        0.000000   \n",
       "25%              3.000000                        2.000000        1.000000   \n",
       "50%              4.000000                        4.000000        1.000000   \n",
       "75%              5.000000                        5.000000        1.000000   \n",
       "max              5.000000                        5.000000        1.000000   \n",
       "\n",
       "       I need the caffeine  I need the ritual  \\\n",
       "count          3570.000000        3570.000000   \n",
       "mean              0.566106           0.538375   \n",
       "std               0.495680           0.498595   \n",
       "min               0.000000           0.000000   \n",
       "25%               0.000000           0.000000   \n",
       "50%               1.000000           1.000000   \n",
       "75%               1.000000           1.000000   \n",
       "max               1.000000           1.000000   \n",
       "\n",
       "       Coffee makes me go to the bathroom  Other reasons to drink coffee  \n",
       "count                         3570.000000                    3570.000000  \n",
       "mean                             0.130252                       0.047059  \n",
       "std                              0.336628                       0.211794  \n",
       "min                              0.000000                       0.000000  \n",
       "25%                              0.000000                       0.000000  \n",
       "50%                              0.000000                       0.000000  \n",
       "75%                              0.000000                       0.000000  \n",
       "max                              1.000000                       1.000000  \n",
       "\n",
       "[8 rows x 61 columns]"
      ]
     },
     "execution_count": 5,
     "metadata": {},
     "output_type": "execute_result"
    }
   ],
   "source": [
    "df.describe()"
   ]
  },
  {
   "cell_type": "code",
   "execution_count": 6,
   "id": "9041bee7",
   "metadata": {},
   "outputs": [
    {
     "data": {
      "text/html": [
       "<div>\n",
       "<style scoped>\n",
       "    .dataframe tbody tr th:only-of-type {\n",
       "        vertical-align: middle;\n",
       "    }\n",
       "\n",
       "    .dataframe tbody tr th {\n",
       "        vertical-align: top;\n",
       "    }\n",
       "\n",
       "    .dataframe thead th {\n",
       "        text-align: right;\n",
       "    }\n",
       "</style>\n",
       "<table border=\"1\" class=\"dataframe\">\n",
       "  <thead>\n",
       "    <tr style=\"text-align: right;\">\n",
       "      <th></th>\n",
       "      <th>Gender</th>\n",
       "      <th>count</th>\n",
       "    </tr>\n",
       "  </thead>\n",
       "  <tbody>\n",
       "    <tr>\n",
       "      <th>0</th>\n",
       "      <td>Male</td>\n",
       "      <td>2524</td>\n",
       "    </tr>\n",
       "    <tr>\n",
       "      <th>1</th>\n",
       "      <td>Female</td>\n",
       "      <td>853</td>\n",
       "    </tr>\n",
       "    <tr>\n",
       "      <th>2</th>\n",
       "      <td>Non-binary</td>\n",
       "      <td>103</td>\n",
       "    </tr>\n",
       "    <tr>\n",
       "      <th>3</th>\n",
       "      <td>Prefer not to say</td>\n",
       "      <td>33</td>\n",
       "    </tr>\n",
       "    <tr>\n",
       "      <th>4</th>\n",
       "      <td>Other</td>\n",
       "      <td>10</td>\n",
       "    </tr>\n",
       "  </tbody>\n",
       "</table>\n",
       "</div>"
      ],
      "text/plain": [
       "              Gender  count\n",
       "0               Male   2524\n",
       "1             Female    853\n",
       "2         Non-binary    103\n",
       "3  Prefer not to say     33\n",
       "4              Other     10"
      ]
     },
     "execution_count": 6,
     "metadata": {},
     "output_type": "execute_result"
    }
   ],
   "source": [
    "gender=df['Gender'].value_counts().reset_index(name='count')\n",
    "gender"
   ]
  },
  {
   "cell_type": "code",
   "execution_count": 7,
   "id": "ed255b82",
   "metadata": {},
   "outputs": [
    {
     "data": {
      "text/plain": [
       "(array([0, 1, 2, 3, 4]),\n",
       " [Text(0, 0, 'Male'),\n",
       "  Text(1, 0, 'Female'),\n",
       "  Text(2, 0, 'Non-binary'),\n",
       "  Text(3, 0, 'Prefer not to say'),\n",
       "  Text(4, 0, 'Other')])"
      ]
     },
     "execution_count": 7,
     "metadata": {},
     "output_type": "execute_result"
    },
    {
     "data": {
      "image/png": "[encoded data removed]",
      "text/plain": [
       "<Figure size 640x480 with 1 Axes>"
      ]
     },
     "metadata": {},
     "output_type": "display_data"
    }
   ],
   "source": [
    "sorted = gender.sort_values(by='count', ascending=False)\n",
    "sns.barplot(data=sorted,x='Gender',y='count',palette='pink')\n",
    "plt.xticks(rotation=45)"
   ]
  },
  {
   "cell_type": "code",
   "execution_count": 8,
   "id": "3f5af664",
   "metadata": {},
   "outputs": [
    {
     "data": {
      "text/html": [
       "<div>\n",
       "<style scoped>\n",
       "    .dataframe tbody tr th:only-of-type {\n",
       "        vertical-align: middle;\n",
       "    }\n",
       "\n",
       "    .dataframe tbody tr th {\n",
       "        vertical-align: top;\n",
       "    }\n",
       "\n",
       "    .dataframe thead th {\n",
       "        text-align: right;\n",
       "    }\n",
       "</style>\n",
       "<table border=\"1\" class=\"dataframe\">\n",
       "  <thead>\n",
       "    <tr style=\"text-align: right;\">\n",
       "      <th></th>\n",
       "      <th>Age group</th>\n",
       "      <th>count</th>\n",
       "    </tr>\n",
       "  </thead>\n",
       "  <tbody>\n",
       "    <tr>\n",
       "      <th>0</th>\n",
       "      <td>25-34</td>\n",
       "      <td>1986</td>\n",
       "    </tr>\n",
       "    <tr>\n",
       "      <th>1</th>\n",
       "      <td>35-44</td>\n",
       "      <td>960</td>\n",
       "    </tr>\n",
       "    <tr>\n",
       "      <th>2</th>\n",
       "      <td>18-24</td>\n",
       "      <td>461</td>\n",
       "    </tr>\n",
       "    <tr>\n",
       "      <th>3</th>\n",
       "      <td>45-54</td>\n",
       "      <td>302</td>\n",
       "    </tr>\n",
       "    <tr>\n",
       "      <th>4</th>\n",
       "      <td>55-64</td>\n",
       "      <td>187</td>\n",
       "    </tr>\n",
       "    <tr>\n",
       "      <th>5</th>\n",
       "      <td>&gt;65</td>\n",
       "      <td>95</td>\n",
       "    </tr>\n",
       "    <tr>\n",
       "      <th>6</th>\n",
       "      <td>&lt;18</td>\n",
       "      <td>20</td>\n",
       "    </tr>\n",
       "  </tbody>\n",
       "</table>\n",
       "</div>"
      ],
      "text/plain": [
       "  Age group  count\n",
       "0     25-34   1986\n",
       "1     35-44    960\n",
       "2     18-24    461\n",
       "3     45-54    302\n",
       "4     55-64    187\n",
       "5       >65     95\n",
       "6       <18     20"
      ]
     },
     "execution_count": 8,
     "metadata": {},
     "output_type": "execute_result"
    }
   ],
   "source": [
    "age_group=df['Age group'].value_counts().reset_index(name='count')\n",
    "age_group"
   ]
  },
  {
   "cell_type": "code",
   "execution_count": 9,
   "id": "d4445dac",
   "metadata": {},
   "outputs": [
    {
     "data": {
      "text/plain": [
       "(array([0, 1, 2, 3, 4, 5, 6]),\n",
       " [Text(0, 0, '25-34'),\n",
       "  Text(1, 0, '35-44'),\n",
       "  Text(2, 0, '18-24'),\n",
       "  Text(3, 0, '45-54'),\n",
       "  Text(4, 0, '55-64'),\n",
       "  Text(5, 0, '>65'),\n",
       "  Text(6, 0, '<18')])"
      ]
     },
     "execution_count": 9,
     "metadata": {},
     "output_type": "execute_result"
    },
    {
     "data": {
      "image/png": "[encoded data removed]",
      "text/plain": [
       "<Figure size 640x480 with 1 Axes>"
      ]
     },
     "metadata": {},
     "output_type": "display_data"
    }
   ],
   "source": [
    "sorted = age_group.sort_values(by='count', ascending=False)\n",
    "sns.barplot(data=sorted,x='Age group',y='count',palette='pink')\n",
    "plt.xticks(rotation=45)"
   ]
  },
  {
   "cell_type": "code",
   "execution_count": 10,
   "id": "519ca53f",
   "metadata": {},
   "outputs": [
    {
     "data": {
      "text/html": [
       "<div>\n",
       "<style scoped>\n",
       "    .dataframe tbody tr th:only-of-type {\n",
       "        vertical-align: middle;\n",
       "    }\n",
       "\n",
       "    .dataframe tbody tr th {\n",
       "        vertical-align: top;\n",
       "    }\n",
       "\n",
       "    .dataframe thead th {\n",
       "        text-align: right;\n",
       "    }\n",
       "</style>\n",
       "<table border=\"1\" class=\"dataframe\">\n",
       "  <thead>\n",
       "    <tr style=\"text-align: right;\">\n",
       "      <th></th>\n",
       "      <th>Education Level</th>\n",
       "      <th>count</th>\n",
       "    </tr>\n",
       "  </thead>\n",
       "  <tbody>\n",
       "    <tr>\n",
       "      <th>0</th>\n",
       "      <td>Bachelor's degree</td>\n",
       "      <td>1759</td>\n",
       "    </tr>\n",
       "    <tr>\n",
       "      <th>1</th>\n",
       "      <td>Master's degree</td>\n",
       "      <td>738</td>\n",
       "    </tr>\n",
       "    <tr>\n",
       "      <th>2</th>\n",
       "      <td>Some college or associate's degree</td>\n",
       "      <td>461</td>\n",
       "    </tr>\n",
       "    <tr>\n",
       "      <th>3</th>\n",
       "      <td>Doctorate or professional degree</td>\n",
       "      <td>340</td>\n",
       "    </tr>\n",
       "    <tr>\n",
       "      <th>4</th>\n",
       "      <td>High school graduate</td>\n",
       "      <td>118</td>\n",
       "    </tr>\n",
       "    <tr>\n",
       "      <th>5</th>\n",
       "      <td>Less than high school</td>\n",
       "      <td>22</td>\n",
       "    </tr>\n",
       "  </tbody>\n",
       "</table>\n",
       "</div>"
      ],
      "text/plain": [
       "                      Education Level  count\n",
       "0                   Bachelor's degree   1759\n",
       "1                     Master's degree    738\n",
       "2  Some college or associate's degree    461\n",
       "3    Doctorate or professional degree    340\n",
       "4                High school graduate    118\n",
       "5               Less than high school     22"
      ]
     },
     "execution_count": 10,
     "metadata": {},
     "output_type": "execute_result"
    }
   ],
   "source": [
    "education=df['Education Level'].value_counts().reset_index(name='count')\n",
    "education"
   ]
  },
  {
   "cell_type": "code",
   "execution_count": 11,
   "id": "2cf130dc",
   "metadata": {},
   "outputs": [
    {
     "data": {
      "text/plain": [
       "(array([0, 1, 2, 3, 4, 5]),\n",
       " [Text(0, 0, \"Bachelor's degree\"),\n",
       "  Text(1, 0, \"Master's degree\"),\n",
       "  Text(2, 0, \"Some college or associate's degree\"),\n",
       "  Text(3, 0, 'Doctorate or professional degree'),\n",
       "  Text(4, 0, 'High school graduate'),\n",
       "  Text(5, 0, 'Less than high school')])"
      ]
     },
     "execution_count": 11,
     "metadata": {},
     "output_type": "execute_result"
    },
    {
     "data": {
      "image/png": "[encoded data removed]",
      "text/plain": [
       "<Figure size 640x480 with 1 Axes>"
      ]
     },
     "metadata": {},
     "output_type": "display_data"
    }
   ],
   "source": [
    "sorted = education.sort_values(by='count', ascending=False)\n",
    "sns.barplot(data=sorted,x='Education Level',y='count',palette='pink')\n",
    "plt.xticks(rotation=45)"
   ]
  },
  {
   "cell_type": "code",
   "execution_count": 12,
   "id": "403b1dde",
   "metadata": {},
   "outputs": [
    {
     "data": {
      "text/html": [
       "<div>\n",
       "<style scoped>\n",
       "    .dataframe tbody tr th:only-of-type {\n",
       "        vertical-align: middle;\n",
       "    }\n",
       "\n",
       "    .dataframe tbody tr th {\n",
       "        vertical-align: top;\n",
       "    }\n",
       "\n",
       "    .dataframe thead th {\n",
       "        text-align: right;\n",
       "    }\n",
       "</style>\n",
       "<table border=\"1\" class=\"dataframe\">\n",
       "  <thead>\n",
       "    <tr style=\"text-align: right;\">\n",
       "      <th></th>\n",
       "      <th>Working place</th>\n",
       "      <th>count</th>\n",
       "    </tr>\n",
       "  </thead>\n",
       "  <tbody>\n",
       "    <tr>\n",
       "      <th>0</th>\n",
       "      <td>I primarily work from home</td>\n",
       "      <td>1592</td>\n",
       "    </tr>\n",
       "    <tr>\n",
       "      <th>1</th>\n",
       "      <td>I primarily work in person</td>\n",
       "      <td>1049</td>\n",
       "    </tr>\n",
       "    <tr>\n",
       "      <th>2</th>\n",
       "      <td>I do a mix of both</td>\n",
       "      <td>883</td>\n",
       "    </tr>\n",
       "  </tbody>\n",
       "</table>\n",
       "</div>"
      ],
      "text/plain": [
       "                Working place  count\n",
       "0  I primarily work from home   1592\n",
       "1  I primarily work in person   1049\n",
       "2          I do a mix of both    883"
      ]
     },
     "execution_count": 12,
     "metadata": {},
     "output_type": "execute_result"
    }
   ],
   "source": [
    "work_place=df['Working place'].value_counts().reset_index(name='count')\n",
    "work_place"
   ]
  },
  {
   "cell_type": "code",
   "execution_count": 13,
   "id": "f389d194",
   "metadata": {},
   "outputs": [
    {
     "data": {
      "text/plain": [
       "(array([0, 1, 2]),\n",
       " [Text(0, 0, 'I primarily work from home'),\n",
       "  Text(1, 0, 'I primarily work in person'),\n",
       "  Text(2, 0, 'I do a mix of both')])"
      ]
     },
     "execution_count": 13,
     "metadata": {},
     "output_type": "execute_result"
    },
    {
     "data": {
      "image/png": "[encoded data removed]",
      "text/plain": [
       "<Figure size 640x480 with 1 Axes>"
      ]
     },
     "metadata": {},
     "output_type": "display_data"
    }
   ],
   "source": [
    "sorted = work_place.sort_values(by='count', ascending=False)\n",
    "sns.barplot(data=sorted,x='Working place',y='count',palette='pink')\n",
    "plt.xticks(rotation=45)"
   ]
  },
  {
   "cell_type": "code",
   "execution_count": 14,
   "id": "02c4a551",
   "metadata": {},
   "outputs": [
    {
     "data": {
      "text/html": [
       "<div>\n",
       "<style scoped>\n",
       "    .dataframe tbody tr th:only-of-type {\n",
       "        vertical-align: middle;\n",
       "    }\n",
       "\n",
       "    .dataframe tbody tr th {\n",
       "        vertical-align: top;\n",
       "    }\n",
       "\n",
       "    .dataframe thead th {\n",
       "        text-align: right;\n",
       "    }\n",
       "</style>\n",
       "<table border=\"1\" class=\"dataframe\">\n",
       "  <thead>\n",
       "    <tr style=\"text-align: right;\">\n",
       "      <th></th>\n",
       "      <th>Ethnicity/Race</th>\n",
       "      <th>count</th>\n",
       "    </tr>\n",
       "  </thead>\n",
       "  <tbody>\n",
       "    <tr>\n",
       "      <th>0</th>\n",
       "      <td>White/Caucasian</td>\n",
       "      <td>2626</td>\n",
       "    </tr>\n",
       "    <tr>\n",
       "      <th>1</th>\n",
       "      <td>Asian/Pacific Islander</td>\n",
       "      <td>411</td>\n",
       "    </tr>\n",
       "    <tr>\n",
       "      <th>2</th>\n",
       "      <td>Hispanic/Latino</td>\n",
       "      <td>218</td>\n",
       "    </tr>\n",
       "    <tr>\n",
       "      <th>3</th>\n",
       "      <td>Other</td>\n",
       "      <td>111</td>\n",
       "    </tr>\n",
       "    <tr>\n",
       "      <th>4</th>\n",
       "      <td>Black/African American</td>\n",
       "      <td>39</td>\n",
       "    </tr>\n",
       "    <tr>\n",
       "      <th>5</th>\n",
       "      <td>Native American/Alaska Native</td>\n",
       "      <td>13</td>\n",
       "    </tr>\n",
       "  </tbody>\n",
       "</table>\n",
       "</div>"
      ],
      "text/plain": [
       "                  Ethnicity/Race  count\n",
       "0                White/Caucasian   2626\n",
       "1         Asian/Pacific Islander    411\n",
       "2                Hispanic/Latino    218\n",
       "3                          Other    111\n",
       "4         Black/African American     39\n",
       "5  Native American/Alaska Native     13"
      ]
     },
     "execution_count": 14,
     "metadata": {},
     "output_type": "execute_result"
    }
   ],
   "source": [
    "race=df['Ethnicity/Race'].value_counts().reset_index(name='count')\n",
    "race"
   ]
  },
  {
   "cell_type": "code",
   "execution_count": 15,
   "id": "61254422",
   "metadata": {},
   "outputs": [
    {
     "data": {
      "text/plain": [
       "(array([0, 1, 2, 3, 4, 5]),\n",
       " [Text(0, 0, 'White/Caucasian'),\n",
       "  Text(1, 0, 'Asian/Pacific Islander'),\n",
       "  Text(2, 0, 'Hispanic/Latino'),\n",
       "  Text(3, 0, 'Other'),\n",
       "  Text(4, 0, 'Black/African American'),\n",
       "  Text(5, 0, 'Native American/Alaska Native')])"
      ]
     },
     "execution_count": 15,
     "metadata": {},
     "output_type": "execute_result"
    },
    {
     "data": {
      "image/png": "[encoded data removed]",
      "text/plain": [
       "<Figure size 640x480 with 1 Axes>"
      ]
     },
     "metadata": {},
     "output_type": "display_data"
    }
   ],
   "source": [
    "sorted = race.sort_values(by='count', ascending=False)\n",
    "sns.barplot(data=sorted,x='Ethnicity/Race',y='count',palette='pink')\n",
    "plt.xticks(rotation=45)"
   ]
  },
  {
   "cell_type": "code",
   "execution_count": 16,
   "id": "69c0e78e",
   "metadata": {},
   "outputs": [
    {
     "data": {
      "text/html": [
       "<div>\n",
       "<style scoped>\n",
       "    .dataframe tbody tr th:only-of-type {\n",
       "        vertical-align: middle;\n",
       "    }\n",
       "\n",
       "    .dataframe tbody tr th {\n",
       "        vertical-align: top;\n",
       "    }\n",
       "\n",
       "    .dataframe thead th {\n",
       "        text-align: right;\n",
       "    }\n",
       "</style>\n",
       "<table border=\"1\" class=\"dataframe\">\n",
       "  <thead>\n",
       "    <tr style=\"text-align: right;\">\n",
       "      <th></th>\n",
       "      <th>Employment Status</th>\n",
       "      <th>count</th>\n",
       "    </tr>\n",
       "  </thead>\n",
       "  <tbody>\n",
       "    <tr>\n",
       "      <th>0</th>\n",
       "      <td>Employed full-time</td>\n",
       "      <td>2708</td>\n",
       "    </tr>\n",
       "    <tr>\n",
       "      <th>1</th>\n",
       "      <td>Student</td>\n",
       "      <td>221</td>\n",
       "    </tr>\n",
       "    <tr>\n",
       "      <th>2</th>\n",
       "      <td>Employed part-time</td>\n",
       "      <td>201</td>\n",
       "    </tr>\n",
       "    <tr>\n",
       "      <th>3</th>\n",
       "      <td>Unemployed</td>\n",
       "      <td>126</td>\n",
       "    </tr>\n",
       "    <tr>\n",
       "      <th>4</th>\n",
       "      <td>Retired</td>\n",
       "      <td>85</td>\n",
       "    </tr>\n",
       "    <tr>\n",
       "      <th>5</th>\n",
       "      <td>Homemaker</td>\n",
       "      <td>78</td>\n",
       "    </tr>\n",
       "  </tbody>\n",
       "</table>\n",
       "</div>"
      ],
      "text/plain": [
       "    Employment Status  count\n",
       "0  Employed full-time   2708\n",
       "1             Student    221\n",
       "2  Employed part-time    201\n",
       "3          Unemployed    126\n",
       "4             Retired     85\n",
       "5           Homemaker     78"
      ]
     },
     "execution_count": 16,
     "metadata": {},
     "output_type": "execute_result"
    }
   ],
   "source": [
    "employment_status=df['Employment Status'].value_counts().reset_index(name='count')\n",
    "employment_status"
   ]
  },
  {
   "cell_type": "code",
   "execution_count": 17,
   "id": "f3304f10",
   "metadata": {},
   "outputs": [
    {
     "data": {
      "text/plain": [
       "(array([0, 1, 2, 3, 4, 5]),\n",
       " [Text(0, 0, 'Employed full-time'),\n",
       "  Text(1, 0, 'Student'),\n",
       "  Text(2, 0, 'Employed part-time'),\n",
       "  Text(3, 0, 'Unemployed'),\n",
       "  Text(4, 0, 'Retired'),\n",
       "  Text(5, 0, 'Homemaker')])"
      ]
     },
     "execution_count": 17,
     "metadata": {},
     "output_type": "execute_result"
    },
    {
     "data": {
      "image/png": "[encoded data removed]",
      "text/plain": [
       "<Figure size 640x480 with 1 Axes>"
      ]
     },
     "metadata": {},
     "output_type": "display_data"
    }
   ],
   "source": [
    "sorted = employment_status.sort_values(by='count', ascending=False)\n",
    "sns.barplot(data=sorted,x='Employment Status',y='count',palette='pink')\n",
    "plt.xticks(rotation=45)"
   ]
  },
  {
   "cell_type": "code",
   "execution_count": 18,
   "id": "b25ce9cd",
   "metadata": {},
   "outputs": [
    {
     "data": {
      "text/html": [
       "<div>\n",
       "<style scoped>\n",
       "    .dataframe tbody tr th:only-of-type {\n",
       "        vertical-align: middle;\n",
       "    }\n",
       "\n",
       "    .dataframe tbody tr th {\n",
       "        vertical-align: top;\n",
       "    }\n",
       "\n",
       "    .dataframe thead th {\n",
       "        text-align: right;\n",
       "    }\n",
       "</style>\n",
       "<table border=\"1\" class=\"dataframe\">\n",
       "  <thead>\n",
       "    <tr style=\"text-align: right;\">\n",
       "      <th></th>\n",
       "      <th>Number of Children</th>\n",
       "      <th>count</th>\n",
       "    </tr>\n",
       "  </thead>\n",
       "  <tbody>\n",
       "    <tr>\n",
       "      <th>0</th>\n",
       "      <td>2</td>\n",
       "      <td>402</td>\n",
       "    </tr>\n",
       "    <tr>\n",
       "      <th>1</th>\n",
       "      <td>1</td>\n",
       "      <td>310</td>\n",
       "    </tr>\n",
       "    <tr>\n",
       "      <th>2</th>\n",
       "      <td>3</td>\n",
       "      <td>92</td>\n",
       "    </tr>\n",
       "    <tr>\n",
       "      <th>3</th>\n",
       "      <td>More than 3</td>\n",
       "      <td>52</td>\n",
       "    </tr>\n",
       "  </tbody>\n",
       "</table>\n",
       "</div>"
      ],
      "text/plain": [
       "  Number of Children  count\n",
       "0                  2    402\n",
       "1                  1    310\n",
       "2                  3     92\n",
       "3        More than 3     52"
      ]
     },
     "execution_count": 18,
     "metadata": {},
     "output_type": "execute_result"
    }
   ],
   "source": [
    "children=df['Number of Children'].value_counts().reset_index(name='count')\n",
    "children"
   ]
  },
  {
   "cell_type": "code",
   "execution_count": 19,
   "id": "03078083",
   "metadata": {},
   "outputs": [
    {
     "data": {
      "text/html": [
       "<div>\n",
       "<style scoped>\n",
       "    .dataframe tbody tr th:only-of-type {\n",
       "        vertical-align: middle;\n",
       "    }\n",
       "\n",
       "    .dataframe tbody tr th {\n",
       "        vertical-align: top;\n",
       "    }\n",
       "\n",
       "    .dataframe thead th {\n",
       "        text-align: right;\n",
       "    }\n",
       "</style>\n",
       "<table border=\"1\" class=\"dataframe\">\n",
       "  <thead>\n",
       "    <tr style=\"text-align: right;\">\n",
       "      <th></th>\n",
       "      <th>Political Affiliation</th>\n",
       "      <th>count</th>\n",
       "    </tr>\n",
       "  </thead>\n",
       "  <tbody>\n",
       "    <tr>\n",
       "      <th>0</th>\n",
       "      <td>Democrat</td>\n",
       "      <td>1768</td>\n",
       "    </tr>\n",
       "    <tr>\n",
       "      <th>1</th>\n",
       "      <td>No affiliation</td>\n",
       "      <td>826</td>\n",
       "    </tr>\n",
       "    <tr>\n",
       "      <th>2</th>\n",
       "      <td>Independent</td>\n",
       "      <td>507</td>\n",
       "    </tr>\n",
       "    <tr>\n",
       "      <th>3</th>\n",
       "      <td>Republican</td>\n",
       "      <td>188</td>\n",
       "    </tr>\n",
       "  </tbody>\n",
       "</table>\n",
       "</div>"
      ],
      "text/plain": [
       "  Political Affiliation  count\n",
       "0              Democrat   1768\n",
       "1        No affiliation    826\n",
       "2           Independent    507\n",
       "3            Republican    188"
      ]
     },
     "execution_count": 19,
     "metadata": {},
     "output_type": "execute_result"
    }
   ],
   "source": [
    "political=df['Political Affiliation'].value_counts().reset_index(name='count')\n",
    "political"
   ]
  },
  {
   "cell_type": "code",
   "execution_count": 20,
   "id": "c7da4afa",
   "metadata": {},
   "outputs": [
    {
     "data": {
      "text/html": [
       "<div>\n",
       "<style scoped>\n",
       "    .dataframe tbody tr th:only-of-type {\n",
       "        vertical-align: middle;\n",
       "    }\n",
       "\n",
       "    .dataframe tbody tr th {\n",
       "        vertical-align: top;\n",
       "    }\n",
       "\n",
       "    .dataframe thead th {\n",
       "        text-align: right;\n",
       "    }\n",
       "</style>\n",
       "<table border=\"1\" class=\"dataframe\">\n",
       "  <thead>\n",
       "    <tr style=\"text-align: right;\">\n",
       "      <th></th>\n",
       "      <th>Cup per day</th>\n",
       "      <th>count</th>\n",
       "    </tr>\n",
       "  </thead>\n",
       "  <tbody>\n",
       "    <tr>\n",
       "      <th>0</th>\n",
       "      <td>2</td>\n",
       "      <td>1663</td>\n",
       "    </tr>\n",
       "    <tr>\n",
       "      <th>1</th>\n",
       "      <td>1</td>\n",
       "      <td>1277</td>\n",
       "    </tr>\n",
       "    <tr>\n",
       "      <th>2</th>\n",
       "      <td>3</td>\n",
       "      <td>473</td>\n",
       "    </tr>\n",
       "    <tr>\n",
       "      <th>3</th>\n",
       "      <td>Less than 1</td>\n",
       "      <td>348</td>\n",
       "    </tr>\n",
       "    <tr>\n",
       "      <th>4</th>\n",
       "      <td>4</td>\n",
       "      <td>121</td>\n",
       "    </tr>\n",
       "    <tr>\n",
       "      <th>5</th>\n",
       "      <td>More than 4</td>\n",
       "      <td>67</td>\n",
       "    </tr>\n",
       "  </tbody>\n",
       "</table>\n",
       "</div>"
      ],
      "text/plain": [
       "   Cup per day  count\n",
       "0            2   1663\n",
       "1            1   1277\n",
       "2            3    473\n",
       "3  Less than 1    348\n",
       "4            4    121\n",
       "5  More than 4     67"
      ]
     },
     "execution_count": 20,
     "metadata": {},
     "output_type": "execute_result"
    }
   ],
   "source": [
    "cup_per_day=df['Cup per day'].value_counts().reset_index(name='count')\n",
    "cup_per_day"
   ]
  },
  {
   "cell_type": "code",
   "execution_count": 21,
   "id": "5298fdec",
   "metadata": {},
   "outputs": [
    {
     "data": {
      "text/plain": [
       "(array([0, 1, 2, 3, 4, 5]),\n",
       " [Text(0, 0, '2'),\n",
       "  Text(1, 0, '1'),\n",
       "  Text(2, 0, '3'),\n",
       "  Text(3, 0, 'Less than 1'),\n",
       "  Text(4, 0, '4'),\n",
       "  Text(5, 0, 'More than 4')])"
      ]
     },
     "execution_count": 21,
     "metadata": {},
     "output_type": "execute_result"
    },
    {
     "data": {
      "image/png": "[encoded data removed]",
      "text/plain": [
       "<Figure size 640x480 with 1 Axes>"
      ]
     },
     "metadata": {},
     "output_type": "display_data"
    }
   ],
   "source": [
    "sorted = cup_per_day.sort_values(by='count', ascending=False)\n",
    "sns.barplot(data=sorted,x='Cup per day',y='count',palette='pink')\n",
    "plt.xticks(rotation=45)"
   ]
  },
  {
   "cell_type": "code",
   "execution_count": 22,
   "id": "eb1710af",
   "metadata": {},
   "outputs": [
    {
     "name": "stdout",
     "output_type": "stream",
     "text": [
      "  where to drink coffee   count\n",
      "0               At home  3644.0\n",
      "1             At office  1430.0\n",
      "2             On the go   705.0\n",
      "3       Drink at a cafe  1170.0\n",
      "4                Others    36.0\n"
     ]
    }
   ],
   "source": [
    "where={'where to drink coffee':['At home','At office','On the go','Drink at a cafe','Others'],\n",
    "       'count':[df['Drink at home'].sum(),df['Drink at office'].sum(),df['On the go'].sum(),df['Drink at a café'].sum(),df['Drink elsewhere'].sum()]}\n",
    "index = range(5)\n",
    "where=pd.DataFrame(where,index=index)\n",
    "print(where)"
   ]
  },
  {
   "cell_type": "code",
   "execution_count": 23,
   "id": "6a66bd4c",
   "metadata": {},
   "outputs": [
    {
     "data": {
      "text/plain": [
       "(array([0, 1, 2, 3, 4]),\n",
       " [Text(0, 0, 'At home'),\n",
       "  Text(1, 0, 'At office'),\n",
       "  Text(2, 0, 'Drink at a cafe'),\n",
       "  Text(3, 0, 'On the go'),\n",
       "  Text(4, 0, 'Others')])"
      ]
     },
     "execution_count": 23,
     "metadata": {},
     "output_type": "execute_result"
    },
    {
     "data": {
      "image/png": "[encoded data removed]",
      "text/plain": [
       "<Figure size 640x480 with 1 Axes>"
      ]
     },
     "metadata": {},
     "output_type": "display_data"
    }
   ],
   "source": [
    "sorted = where.sort_values(by='count', ascending=False)\n",
    "sns.barplot(data=sorted,x='where to drink coffee',y='count',palette='pink')\n",
    "plt.xticks(rotation=45)"
   ]
  },
  {
   "cell_type": "code",
   "execution_count": 24,
   "id": "0689579a",
   "metadata": {},
   "outputs": [
    {
     "name": "stdout",
     "output_type": "stream",
     "text": [
      "  how to make coffee at home   count\n",
      "0                  Pour over  2295.0\n",
      "1               French press   735.0\n",
      "2                   Espresso  1518.0\n",
      "3     Coffee brewing machine   663.0\n",
      "4        Pod/capsule machine   336.0\n",
      "5             Instant coffee   130.0\n",
      "6        Bean-to-cup machine    84.0\n",
      "7                  Cold brew   525.0\n",
      "8             Coffee Extract   186.0\n",
      "9                     Others   677.0\n"
     ]
    }
   ],
   "source": [
    "df=df.rename(columns={'Frencg press at home':'French press at home'})\n",
    "how={'how to make coffee at home':['Pour over','French press','Espresso','Coffee brewing machine','Pod/capsule machine','Instant coffee','Bean-to-cup machine','Cold brew','Coffee Extract','Others'],\n",
    "     'count':[df['Pour over at home'].sum(),df['French press at home'].sum(),df['Espresso at home'].sum(),df['Coffee brewing machine at home'].sum(),df['Pod/capsule machine at home'].sum(),df['Instant coffee at home'].sum(),df['Bean-to-cup machine at home'].sum(),df['Cold brew at home'].sum(),df['Coffee extract at home'].sum(),df['Other ways at home'].sum()]}\n",
    "index=range(10)\n",
    "how=pd.DataFrame(how,index=index)\n",
    "print(how)"
   ]
  },
  {
   "cell_type": "code",
   "execution_count": 25,
   "id": "00b8899e",
   "metadata": {},
   "outputs": [
    {
     "data": {
      "text/plain": [
       "(array([0, 1, 2, 3, 4, 5, 6, 7, 8, 9]),\n",
       " [Text(0, 0, 'Pour over'),\n",
       "  Text(1, 0, 'Espresso'),\n",
       "  Text(2, 0, 'French press'),\n",
       "  Text(3, 0, 'Others'),\n",
       "  Text(4, 0, 'Coffee brewing machine'),\n",
       "  Text(5, 0, 'Cold brew'),\n",
       "  Text(6, 0, 'Pod/capsule machine'),\n",
       "  Text(7, 0, 'Coffee Extract'),\n",
       "  Text(8, 0, 'Instant coffee'),\n",
       "  Text(9, 0, 'Bean-to-cup machine')])"
      ]
     },
     "execution_count": 25,
     "metadata": {},
     "output_type": "execute_result"
    },
    {
     "data": {
      "image/png": "[encoded data removed]",
      "text/plain": [
       "<Figure size 640x480 with 1 Axes>"
      ]
     },
     "metadata": {},
     "output_type": "display_data"
    }
   ],
   "source": [
    "how_sorted = how.sort_values(by='count', ascending=False)\n",
    "sns.barplot(data=how_sorted,x='how to make coffee at home',y='count',palette='pink')\n",
    "plt.xticks(rotation=45)"
   ]
  },
  {
   "cell_type": "code",
   "execution_count": 26,
   "id": "571b2de5",
   "metadata": {},
   "outputs": [
    {
     "name": "stdout",
     "output_type": "stream",
     "text": [
      "     where to buy coffee  count\n",
      "0         National chain  329.0\n",
      "1             Local café  392.0\n",
      "2             Drive-thru   95.0\n",
      "3  Specialty coffee shop  438.0\n",
      "4    Deli or supermarket   49.0\n",
      "5                 Others   34.0\n"
     ]
    }
   ],
   "source": [
    "buy_where={'where to buy coffee':['National chain','Local café','Drive-thru','Specialty coffee shop','Deli or supermarket','Others'],\n",
    "           'count':[df['On the go_National chain'].sum(),df['On the go_Local café'].sum(),df['On the go_Drive-thru'].sum(),df['On the go_Specialty coffee shop'].sum(),df['On the go_Deli or supermarket'].sum(),df['On the go_Other'].sum()]}\n",
    "index=range(6)\n",
    "buy_where=pd.DataFrame(buy_where,index=index)\n",
    "print(buy_where)"
   ]
  },
  {
   "cell_type": "code",
   "execution_count": 27,
   "id": "ef88de4e",
   "metadata": {},
   "outputs": [
    {
     "data": {
      "text/plain": [
       "(array([0, 1, 2, 3, 4, 5]),\n",
       " [Text(0, 0, 'Specialty coffee shop'),\n",
       "  Text(1, 0, 'Local café'),\n",
       "  Text(2, 0, 'National chain'),\n",
       "  Text(3, 0, 'Drive-thru'),\n",
       "  Text(4, 0, 'Deli or supermarket'),\n",
       "  Text(5, 0, 'Others')])"
      ]
     },
     "execution_count": 27,
     "metadata": {},
     "output_type": "execute_result"
    },
    {
     "data": {
      "image/png": "[encoded data removed]",
      "text/plain": [
       "<Figure size 640x480 with 1 Axes>"
      ]
     },
     "metadata": {},
     "output_type": "display_data"
    }
   ],
   "source": [
    "sorted = buy_where.sort_values(by='count', ascending=False)\n",
    "sns.barplot(data=sorted,x='where to buy coffee',y='count',palette='pink')\n",
    "plt.xticks(rotation=45)"
   ]
  },
  {
   "cell_type": "code",
   "execution_count": 28,
   "id": "3e672576",
   "metadata": {},
   "outputs": [
    {
     "data": {
      "text/html": [
       "<div>\n",
       "<style scoped>\n",
       "    .dataframe tbody tr th:only-of-type {\n",
       "        vertical-align: middle;\n",
       "    }\n",
       "\n",
       "    .dataframe tbody tr th {\n",
       "        vertical-align: top;\n",
       "    }\n",
       "\n",
       "    .dataframe thead th {\n",
       "        text-align: right;\n",
       "    }\n",
       "</style>\n",
       "<table border=\"1\" class=\"dataframe\">\n",
       "  <thead>\n",
       "    <tr style=\"text-align: right;\">\n",
       "      <th></th>\n",
       "      <th>Favorite coffee drink</th>\n",
       "      <th>count</th>\n",
       "    </tr>\n",
       "  </thead>\n",
       "  <tbody>\n",
       "    <tr>\n",
       "      <th>0</th>\n",
       "      <td>Pourover</td>\n",
       "      <td>1084</td>\n",
       "    </tr>\n",
       "    <tr>\n",
       "      <th>1</th>\n",
       "      <td>Latte</td>\n",
       "      <td>680</td>\n",
       "    </tr>\n",
       "    <tr>\n",
       "      <th>2</th>\n",
       "      <td>Regular drip coffee</td>\n",
       "      <td>442</td>\n",
       "    </tr>\n",
       "    <tr>\n",
       "      <th>3</th>\n",
       "      <td>Cappuccino</td>\n",
       "      <td>341</td>\n",
       "    </tr>\n",
       "    <tr>\n",
       "      <th>4</th>\n",
       "      <td>Espresso</td>\n",
       "      <td>330</td>\n",
       "    </tr>\n",
       "    <tr>\n",
       "      <th>5</th>\n",
       "      <td>Cortado</td>\n",
       "      <td>312</td>\n",
       "    </tr>\n",
       "    <tr>\n",
       "      <th>6</th>\n",
       "      <td>Americano</td>\n",
       "      <td>249</td>\n",
       "    </tr>\n",
       "    <tr>\n",
       "      <th>7</th>\n",
       "      <td>Iced coffee</td>\n",
       "      <td>156</td>\n",
       "    </tr>\n",
       "    <tr>\n",
       "      <th>8</th>\n",
       "      <td>Mocha</td>\n",
       "      <td>118</td>\n",
       "    </tr>\n",
       "    <tr>\n",
       "      <th>9</th>\n",
       "      <td>Other</td>\n",
       "      <td>114</td>\n",
       "    </tr>\n",
       "    <tr>\n",
       "      <th>10</th>\n",
       "      <td>Cold brew</td>\n",
       "      <td>109</td>\n",
       "    </tr>\n",
       "    <tr>\n",
       "      <th>11</th>\n",
       "      <td>Blended drink (e.g. Frappuccino)</td>\n",
       "      <td>45</td>\n",
       "    </tr>\n",
       "  </tbody>\n",
       "</table>\n",
       "</div>"
      ],
      "text/plain": [
       "               Favorite coffee drink  count\n",
       "0                           Pourover   1084\n",
       "1                              Latte    680\n",
       "2                Regular drip coffee    442\n",
       "3                         Cappuccino    341\n",
       "4                           Espresso    330\n",
       "5                            Cortado    312\n",
       "6                          Americano    249\n",
       "7                        Iced coffee    156\n",
       "8                              Mocha    118\n",
       "9                              Other    114\n",
       "10                         Cold brew    109\n",
       "11  Blended drink (e.g. Frappuccino)     45"
      ]
     },
     "execution_count": 28,
     "metadata": {},
     "output_type": "execute_result"
    }
   ],
   "source": [
    "favorite=df['Favorite coffee drink'].value_counts().reset_index(name='count')\n",
    "favorite"
   ]
  },
  {
   "cell_type": "code",
   "execution_count": 29,
   "id": "43444136",
   "metadata": {},
   "outputs": [
    {
     "name": "stdout",
     "output_type": "stream",
     "text": [
      "                                      what to add   count\n",
      "0                                      Just black  2611.0\n",
      "1  Add Milk, dairy alternative, or coffee creamer  1700.0\n",
      "2                          Add Sugar or sweetener   515.0\n",
      "3                                Add flavor syrup   231.0\n",
      "4                                      Add Others    46.0\n"
     ]
    }
   ],
   "source": [
    "add={'what to add':['Just black','Add Milk, dairy alternative, or coffee creamer','Add Sugar or sweetener','Add flavor syrup','Add Others'],\n",
    "     'count':[df['Just black'].sum(),df['Add Milk, dairy alternative, or coffee creamer'].sum(),df['Add Sugar or sweetener'].sum(),df['Add flavor syrup'].sum(),df['Add Others'].sum()]}\n",
    "index=range(5)\n",
    "add=pd.DataFrame(add,index=index)\n",
    "print(add)"
   ]
  },
  {
   "cell_type": "code",
   "execution_count": 30,
   "id": "cdeb5c6e",
   "metadata": {},
   "outputs": [
    {
     "data": {
      "text/plain": [
       "(array([0, 1, 2, 3, 4]),\n",
       " [Text(0, 0, 'Just black'),\n",
       "  Text(1, 0, 'Add Milk, dairy alternative, or coffee creamer'),\n",
       "  Text(2, 0, 'Add Sugar or sweetener'),\n",
       "  Text(3, 0, 'Add flavor syrup'),\n",
       "  Text(4, 0, 'Add Others')])"
      ]
     },
     "execution_count": 30,
     "metadata": {},
     "output_type": "execute_result"
    },
    {
     "data": {
      "image/png": "[encoded data removed]",
      "text/plain": [
       "<Figure size 640x480 with 1 Axes>"
      ]
     },
     "metadata": {},
     "output_type": "display_data"
    }
   ],
   "source": [
    "sorted = add.sort_values(by='count', ascending=False)\n",
    "sns.barplot(data=sorted,x='what to add',y='count',palette='pink')\n",
    "plt.xticks(rotation=45)"
   ]
  },
  {
   "cell_type": "code",
   "execution_count": 31,
   "id": "d44d0185",
   "metadata": {},
   "outputs": [
    {
     "name": "stdout",
     "output_type": "stream",
     "text": [
      "         what dairy to add  count\n",
      "0               Whole milk  847.0\n",
      "1                Skim milk  135.0\n",
      "2            Half and half  404.0\n",
      "3           Coffee creamer  149.0\n",
      "4  Flavored coffee creamer  162.0\n",
      "5                 Oat milk  511.0\n",
      "6              Almond milk  145.0\n",
      "7                 Soy milk   81.0\n",
      "8                   Others    0.0\n"
     ]
    }
   ],
   "source": [
    "dairy={'what dairy to add':['Whole milk','Skim milk','Half and half','Coffee creamer','Flavored coffee creamer','Oat milk','Almond milk','Soy milk','Others'],\n",
    "       'count':[df['Whole milk'].sum(),df['Skim milk'].sum(),df['Half and half'].sum(),df['Coffee creamer'].sum(),df['Flavored coffee creamer'].sum(),df['Oat milk'].sum(),df['Almond milk'].sum(),df['Soy milk'].sum(),df['Other dairy'].sum()]}\n",
    "index=range(9)\n",
    "dairy=pd.DataFrame(dairy,index=index)\n",
    "print(dairy)"
   ]
  },
  {
   "cell_type": "code",
   "execution_count": 32,
   "id": "efafeb97",
   "metadata": {},
   "outputs": [
    {
     "name": "stdout",
     "output_type": "stream",
     "text": [
      "   what sweetener to add  count\n",
      "0       Granulated Sugar  293.0\n",
      "1  Artificial Sweeteners   91.0\n",
      "2                  Honey   70.0\n",
      "3            Maple Syrup   37.0\n",
      "4                 Stevia   51.0\n",
      "5           Agave Nectar   15.0\n",
      "6            Brown Sugar   74.0\n",
      "7              Raw Sugar  116.0\n"
     ]
    }
   ],
   "source": [
    "sweetener={'what sweetener to add':['Granulated Sugar','Artificial Sweeteners','Honey','Maple Syrup','Stevia','Agave Nectar','Brown Sugar','Raw Sugar'],\n",
    "           'count':[df['Granulated Sugar'].sum(),df['Artificial Sweeteners'].sum(),df['Honey'].sum(),df['Maple Syrup'].sum(),df['Stevia'].sum(),df['Agave Nectar'].sum(),df['Brown Sugar'].sum(),df['Raw Sugar '].sum()]}\n",
    "index=range(8)\n",
    "sweetener=pd.DataFrame(sweetener,index=index)\n",
    "print(sweetener)"
   ]
  },
  {
   "cell_type": "code",
   "execution_count": 33,
   "id": "29e6e006",
   "metadata": {},
   "outputs": [
    {
     "data": {
      "text/html": [
       "<div>\n",
       "<style scoped>\n",
       "    .dataframe tbody tr th:only-of-type {\n",
       "        vertical-align: middle;\n",
       "    }\n",
       "\n",
       "    .dataframe tbody tr th {\n",
       "        vertical-align: top;\n",
       "    }\n",
       "\n",
       "    .dataframe thead th {\n",
       "        text-align: right;\n",
       "    }\n",
       "</style>\n",
       "<table border=\"1\" class=\"dataframe\">\n",
       "  <thead>\n",
       "    <tr style=\"text-align: right;\">\n",
       "      <th></th>\n",
       "      <th>Favorite before today's tasting</th>\n",
       "      <th>count</th>\n",
       "    </tr>\n",
       "  </thead>\n",
       "  <tbody>\n",
       "    <tr>\n",
       "      <th>0</th>\n",
       "      <td>Fruity</td>\n",
       "      <td>953</td>\n",
       "    </tr>\n",
       "    <tr>\n",
       "      <th>1</th>\n",
       "      <td>Chocolatey</td>\n",
       "      <td>628</td>\n",
       "    </tr>\n",
       "    <tr>\n",
       "      <th>2</th>\n",
       "      <td>Full Bodied</td>\n",
       "      <td>474</td>\n",
       "    </tr>\n",
       "    <tr>\n",
       "      <th>3</th>\n",
       "      <td>Bright</td>\n",
       "      <td>349</td>\n",
       "    </tr>\n",
       "    <tr>\n",
       "      <th>4</th>\n",
       "      <td>Nutty</td>\n",
       "      <td>304</td>\n",
       "    </tr>\n",
       "    <tr>\n",
       "      <th>5</th>\n",
       "      <td>Sweet</td>\n",
       "      <td>294</td>\n",
       "    </tr>\n",
       "    <tr>\n",
       "      <th>6</th>\n",
       "      <td>Caramalized</td>\n",
       "      <td>280</td>\n",
       "    </tr>\n",
       "    <tr>\n",
       "      <th>7</th>\n",
       "      <td>Juicy</td>\n",
       "      <td>274</td>\n",
       "    </tr>\n",
       "    <tr>\n",
       "      <th>8</th>\n",
       "      <td>Bold</td>\n",
       "      <td>203</td>\n",
       "    </tr>\n",
       "    <tr>\n",
       "      <th>9</th>\n",
       "      <td>Floral</td>\n",
       "      <td>193</td>\n",
       "    </tr>\n",
       "    <tr>\n",
       "      <th>10</th>\n",
       "      <td>Complex</td>\n",
       "      <td>4</td>\n",
       "    </tr>\n",
       "    <tr>\n",
       "      <th>11</th>\n",
       "      <td>Light</td>\n",
       "      <td>2</td>\n",
       "    </tr>\n",
       "  </tbody>\n",
       "</table>\n",
       "</div>"
      ],
      "text/plain": [
       "   Favorite before today's tasting  count\n",
       "0                           Fruity    953\n",
       "1                       Chocolatey    628\n",
       "2                      Full Bodied    474\n",
       "3                           Bright    349\n",
       "4                            Nutty    304\n",
       "5                            Sweet    294\n",
       "6                      Caramalized    280\n",
       "7                            Juicy    274\n",
       "8                             Bold    203\n",
       "9                           Floral    193\n",
       "10                         Complex      4\n",
       "11                           Light      2"
      ]
     },
     "execution_count": 33,
     "metadata": {},
     "output_type": "execute_result"
    }
   ],
   "source": [
    "favorite_flavor=df[\"Favorite before today's tasting\"].value_counts().reset_index(name='count')\n",
    "favorite_flavor"
   ]
  },
  {
   "cell_type": "code",
   "execution_count": 34,
   "id": "6491be77",
   "metadata": {},
   "outputs": [
    {
     "data": {
      "text/html": [
       "<div>\n",
       "<style scoped>\n",
       "    .dataframe tbody tr th:only-of-type {\n",
       "        vertical-align: middle;\n",
       "    }\n",
       "\n",
       "    .dataframe tbody tr th {\n",
       "        vertical-align: top;\n",
       "    }\n",
       "\n",
       "    .dataframe thead th {\n",
       "        text-align: right;\n",
       "    }\n",
       "</style>\n",
       "<table border=\"1\" class=\"dataframe\">\n",
       "  <thead>\n",
       "    <tr style=\"text-align: right;\">\n",
       "      <th></th>\n",
       "      <th>How strong do you like your coffee</th>\n",
       "      <th>count</th>\n",
       "    </tr>\n",
       "  </thead>\n",
       "  <tbody>\n",
       "    <tr>\n",
       "      <th>0</th>\n",
       "      <td>Somewhat strong</td>\n",
       "      <td>1791</td>\n",
       "    </tr>\n",
       "    <tr>\n",
       "      <th>1</th>\n",
       "      <td>Medium</td>\n",
       "      <td>1432</td>\n",
       "    </tr>\n",
       "    <tr>\n",
       "      <th>2</th>\n",
       "      <td>Very strong</td>\n",
       "      <td>433</td>\n",
       "    </tr>\n",
       "    <tr>\n",
       "      <th>3</th>\n",
       "      <td>Somewhat light</td>\n",
       "      <td>217</td>\n",
       "    </tr>\n",
       "    <tr>\n",
       "      <th>4</th>\n",
       "      <td>Weak</td>\n",
       "      <td>43</td>\n",
       "    </tr>\n",
       "  </tbody>\n",
       "</table>\n",
       "</div>"
      ],
      "text/plain": [
       "  How strong do you like your coffee  count\n",
       "0                    Somewhat strong   1791\n",
       "1                             Medium   1432\n",
       "2                        Very strong    433\n",
       "3                     Somewhat light    217\n",
       "4                               Weak     43"
      ]
     },
     "execution_count": 34,
     "metadata": {},
     "output_type": "execute_result"
    }
   ],
   "source": [
    "how_strong=df['How strong do you like your coffee'].value_counts().reset_index(name='count')\n",
    "how_strong"
   ]
  },
  {
   "cell_type": "code",
   "execution_count": 35,
   "id": "84b19727",
   "metadata": {},
   "outputs": [
    {
     "data": {
      "text/html": [
       "<div>\n",
       "<style scoped>\n",
       "    .dataframe tbody tr th:only-of-type {\n",
       "        vertical-align: middle;\n",
       "    }\n",
       "\n",
       "    .dataframe tbody tr th {\n",
       "        vertical-align: top;\n",
       "    }\n",
       "\n",
       "    .dataframe thead th {\n",
       "        text-align: right;\n",
       "    }\n",
       "</style>\n",
       "<table border=\"1\" class=\"dataframe\">\n",
       "  <thead>\n",
       "    <tr style=\"text-align: right;\">\n",
       "      <th></th>\n",
       "      <th>Preferred roast level</th>\n",
       "      <th>count</th>\n",
       "    </tr>\n",
       "  </thead>\n",
       "  <tbody>\n",
       "    <tr>\n",
       "      <th>0</th>\n",
       "      <td>Light</td>\n",
       "      <td>1778</td>\n",
       "    </tr>\n",
       "    <tr>\n",
       "      <th>1</th>\n",
       "      <td>Medium</td>\n",
       "      <td>1557</td>\n",
       "    </tr>\n",
       "    <tr>\n",
       "      <th>2</th>\n",
       "      <td>Dark</td>\n",
       "      <td>409</td>\n",
       "    </tr>\n",
       "    <tr>\n",
       "      <th>3</th>\n",
       "      <td>Nordic</td>\n",
       "      <td>78</td>\n",
       "    </tr>\n",
       "    <tr>\n",
       "      <th>4</th>\n",
       "      <td>Blonde</td>\n",
       "      <td>74</td>\n",
       "    </tr>\n",
       "    <tr>\n",
       "      <th>5</th>\n",
       "      <td>Italian</td>\n",
       "      <td>23</td>\n",
       "    </tr>\n",
       "    <tr>\n",
       "      <th>6</th>\n",
       "      <td>French</td>\n",
       "      <td>21</td>\n",
       "    </tr>\n",
       "  </tbody>\n",
       "</table>\n",
       "</div>"
      ],
      "text/plain": [
       "  Preferred roast level   count\n",
       "0                  Light   1778\n",
       "1                 Medium   1557\n",
       "2                   Dark    409\n",
       "3                 Nordic     78\n",
       "4                 Blonde     74\n",
       "5                Italian     23\n",
       "6                 French     21"
      ]
     },
     "execution_count": 35,
     "metadata": {},
     "output_type": "execute_result"
    }
   ],
   "source": [
    "roast=df['Preferred roast level '].value_counts().reset_index(name='count')\n",
    "roast"
   ]
  },
  {
   "cell_type": "code",
   "execution_count": 36,
   "id": "c148a7e2",
   "metadata": {},
   "outputs": [
    {
     "data": {
      "text/html": [
       "<div>\n",
       "<style scoped>\n",
       "    .dataframe tbody tr th:only-of-type {\n",
       "        vertical-align: middle;\n",
       "    }\n",
       "\n",
       "    .dataframe tbody tr th {\n",
       "        vertical-align: top;\n",
       "    }\n",
       "\n",
       "    .dataframe thead th {\n",
       "        text-align: right;\n",
       "    }\n",
       "</style>\n",
       "<table border=\"1\" class=\"dataframe\">\n",
       "  <thead>\n",
       "    <tr style=\"text-align: right;\">\n",
       "      <th></th>\n",
       "      <th>Preferred caffeine amount in coffee</th>\n",
       "      <th>count</th>\n",
       "    </tr>\n",
       "  </thead>\n",
       "  <tbody>\n",
       "    <tr>\n",
       "      <th>0</th>\n",
       "      <td>Full caffeine</td>\n",
       "      <td>3576</td>\n",
       "    </tr>\n",
       "    <tr>\n",
       "      <th>1</th>\n",
       "      <td>Half caff</td>\n",
       "      <td>205</td>\n",
       "    </tr>\n",
       "    <tr>\n",
       "      <th>2</th>\n",
       "      <td>Decaf</td>\n",
       "      <td>136</td>\n",
       "    </tr>\n",
       "  </tbody>\n",
       "</table>\n",
       "</div>"
      ],
      "text/plain": [
       "  Preferred caffeine amount in coffee  count\n",
       "0                       Full caffeine   3576\n",
       "1                           Half caff    205\n",
       "2                               Decaf    136"
      ]
     },
     "execution_count": 36,
     "metadata": {},
     "output_type": "execute_result"
    }
   ],
   "source": [
    "caffeine=df['Preferred caffeine amount in coffee'].value_counts().reset_index(name='count')\n",
    "caffeine"
   ]
  },
  {
   "cell_type": "code",
   "execution_count": 37,
   "id": "746e6d45",
   "metadata": {},
   "outputs": [
    {
     "data": {
      "text/html": [
       "<div>\n",
       "<style scoped>\n",
       "    .dataframe tbody tr th:only-of-type {\n",
       "        vertical-align: middle;\n",
       "    }\n",
       "\n",
       "    .dataframe tbody tr th {\n",
       "        vertical-align: top;\n",
       "    }\n",
       "\n",
       "    .dataframe thead th {\n",
       "        text-align: right;\n",
       "    }\n",
       "</style>\n",
       "<table border=\"1\" class=\"dataframe\">\n",
       "  <thead>\n",
       "    <tr style=\"text-align: right;\">\n",
       "      <th></th>\n",
       "      <th>Coffee expertise rate</th>\n",
       "      <th>count</th>\n",
       "    </tr>\n",
       "  </thead>\n",
       "  <tbody>\n",
       "    <tr>\n",
       "      <th>0</th>\n",
       "      <td>7.0</td>\n",
       "      <td>939</td>\n",
       "    </tr>\n",
       "    <tr>\n",
       "      <th>1</th>\n",
       "      <td>6.0</td>\n",
       "      <td>851</td>\n",
       "    </tr>\n",
       "    <tr>\n",
       "      <th>2</th>\n",
       "      <td>5.0</td>\n",
       "      <td>580</td>\n",
       "    </tr>\n",
       "    <tr>\n",
       "      <th>3</th>\n",
       "      <td>8.0</td>\n",
       "      <td>490</td>\n",
       "    </tr>\n",
       "    <tr>\n",
       "      <th>4</th>\n",
       "      <td>4.0</td>\n",
       "      <td>356</td>\n",
       "    </tr>\n",
       "    <tr>\n",
       "      <th>5</th>\n",
       "      <td>3.0</td>\n",
       "      <td>273</td>\n",
       "    </tr>\n",
       "    <tr>\n",
       "      <th>6</th>\n",
       "      <td>2.0</td>\n",
       "      <td>166</td>\n",
       "    </tr>\n",
       "    <tr>\n",
       "      <th>7</th>\n",
       "      <td>1.0</td>\n",
       "      <td>155</td>\n",
       "    </tr>\n",
       "    <tr>\n",
       "      <th>8</th>\n",
       "      <td>9.0</td>\n",
       "      <td>88</td>\n",
       "    </tr>\n",
       "    <tr>\n",
       "      <th>9</th>\n",
       "      <td>10.0</td>\n",
       "      <td>40</td>\n",
       "    </tr>\n",
       "  </tbody>\n",
       "</table>\n",
       "</div>"
      ],
      "text/plain": [
       "    Coffee expertise rate  count\n",
       "0                     7.0    939\n",
       "1                     6.0    851\n",
       "2                     5.0    580\n",
       "3                     8.0    490\n",
       "4                     4.0    356\n",
       "5                     3.0    273\n",
       "6                     2.0    166\n",
       "7                     1.0    155\n",
       "8                     9.0     88\n",
       "9                    10.0     40"
      ]
     },
     "execution_count": 37,
     "metadata": {},
     "output_type": "execute_result"
    }
   ],
   "source": [
    "expertise=df[' Coffee expertise rate'].value_counts().reset_index(name='count')\n",
    "expertise"
   ]
  },
  {
   "cell_type": "code",
   "execution_count": 38,
   "id": "3ab81de1",
   "metadata": {},
   "outputs": [
    {
     "data": {
      "text/plain": [
       "5.7"
      ]
     },
     "execution_count": 38,
     "metadata": {},
     "output_type": "execute_result"
    }
   ],
   "source": [
    "avg_expertise=df[' Coffee expertise rate'].mean()\n",
    "avg_expertise.round(1)"
   ]
  },
  {
   "cell_type": "code",
   "execution_count": 39,
   "id": "0e7e85f1",
   "metadata": {},
   "outputs": [
    {
     "data": {
      "text/html": [
       "<div>\n",
       "<style scoped>\n",
       "    .dataframe tbody tr th:only-of-type {\n",
       "        vertical-align: middle;\n",
       "    }\n",
       "\n",
       "    .dataframe tbody tr th {\n",
       "        vertical-align: top;\n",
       "    }\n",
       "\n",
       "    .dataframe thead th {\n",
       "        text-align: right;\n",
       "    }\n",
       "</style>\n",
       "<table border=\"1\" class=\"dataframe\">\n",
       "  <thead>\n",
       "    <tr style=\"text-align: right;\">\n",
       "      <th></th>\n",
       "      <th>attribute</th>\n",
       "      <th>avg rating</th>\n",
       "    </tr>\n",
       "  </thead>\n",
       "  <tbody>\n",
       "    <tr>\n",
       "      <th>0</th>\n",
       "      <td>Coffee A - Bitterness</td>\n",
       "      <td>2.1</td>\n",
       "    </tr>\n",
       "    <tr>\n",
       "      <th>1</th>\n",
       "      <td>Coffee A - Acidity</td>\n",
       "      <td>3.6</td>\n",
       "    </tr>\n",
       "    <tr>\n",
       "      <th>2</th>\n",
       "      <td>Coffee A - Personal Preference</td>\n",
       "      <td>3.3</td>\n",
       "    </tr>\n",
       "  </tbody>\n",
       "</table>\n",
       "</div>"
      ],
      "text/plain": [
       "                        attribute  avg rating\n",
       "0           Coffee A - Bitterness         2.1\n",
       "1              Coffee A - Acidity         3.6\n",
       "2  Coffee A - Personal Preference         3.3"
      ]
     },
     "execution_count": 39,
     "metadata": {},
     "output_type": "execute_result"
    }
   ],
   "source": [
    "selected_columns = ['Coffee A - Bitterness', 'Coffee A - Acidity', 'Coffee A - Personal Preference']\n",
    "coffee_A = df[selected_columns].mean().round(1).reset_index()\n",
    "coffee_A.columns=['attribute','avg rating']\n",
    "coffee_A"
   ]
  },
  {
   "cell_type": "code",
   "execution_count": 40,
   "id": "5e1a7bee",
   "metadata": {},
   "outputs": [
    {
     "data": {
      "text/html": [
       "<div>\n",
       "<style scoped>\n",
       "    .dataframe tbody tr th:only-of-type {\n",
       "        vertical-align: middle;\n",
       "    }\n",
       "\n",
       "    .dataframe tbody tr th {\n",
       "        vertical-align: top;\n",
       "    }\n",
       "\n",
       "    .dataframe thead th {\n",
       "        text-align: right;\n",
       "    }\n",
       "</style>\n",
       "<table border=\"1\" class=\"dataframe\">\n",
       "  <thead>\n",
       "    <tr style=\"text-align: right;\">\n",
       "      <th></th>\n",
       "      <th>attribute</th>\n",
       "      <th>avg rating</th>\n",
       "    </tr>\n",
       "  </thead>\n",
       "  <tbody>\n",
       "    <tr>\n",
       "      <th>0</th>\n",
       "      <td>Coffee B - Bitterness</td>\n",
       "      <td>3.0</td>\n",
       "    </tr>\n",
       "    <tr>\n",
       "      <th>1</th>\n",
       "      <td>Coffee B - Acidity</td>\n",
       "      <td>2.2</td>\n",
       "    </tr>\n",
       "    <tr>\n",
       "      <th>2</th>\n",
       "      <td>Coffee B - Personal Preference</td>\n",
       "      <td>3.1</td>\n",
       "    </tr>\n",
       "  </tbody>\n",
       "</table>\n",
       "</div>"
      ],
      "text/plain": [
       "                        attribute  avg rating\n",
       "0           Coffee B - Bitterness         3.0\n",
       "1              Coffee B - Acidity         2.2\n",
       "2  Coffee B - Personal Preference         3.1"
      ]
     },
     "execution_count": 40,
     "metadata": {},
     "output_type": "execute_result"
    }
   ],
   "source": [
    "selected_columns = ['Coffee B - Bitterness', 'Coffee B - Acidity', 'Coffee B - Personal Preference']\n",
    "coffee_B = df[selected_columns].mean().round(1).reset_index()\n",
    "coffee_B.columns=['attribute','avg rating']\n",
    "coffee_B"
   ]
  },
  {
   "cell_type": "code",
   "execution_count": 41,
   "id": "1f144a64",
   "metadata": {},
   "outputs": [
    {
     "data": {
      "text/html": [
       "<div>\n",
       "<style scoped>\n",
       "    .dataframe tbody tr th:only-of-type {\n",
       "        vertical-align: middle;\n",
       "    }\n",
       "\n",
       "    .dataframe tbody tr th {\n",
       "        vertical-align: top;\n",
       "    }\n",
       "\n",
       "    .dataframe thead th {\n",
       "        text-align: right;\n",
       "    }\n",
       "</style>\n",
       "<table border=\"1\" class=\"dataframe\">\n",
       "  <thead>\n",
       "    <tr style=\"text-align: right;\">\n",
       "      <th></th>\n",
       "      <th>attribute</th>\n",
       "      <th>avg rating</th>\n",
       "    </tr>\n",
       "  </thead>\n",
       "  <tbody>\n",
       "    <tr>\n",
       "      <th>0</th>\n",
       "      <td>Coffee C - Bitterness</td>\n",
       "      <td>3.1</td>\n",
       "    </tr>\n",
       "    <tr>\n",
       "      <th>1</th>\n",
       "      <td>Coffee C - Acidity</td>\n",
       "      <td>2.4</td>\n",
       "    </tr>\n",
       "    <tr>\n",
       "      <th>2</th>\n",
       "      <td>Coffee C - Personal Preference</td>\n",
       "      <td>3.1</td>\n",
       "    </tr>\n",
       "  </tbody>\n",
       "</table>\n",
       "</div>"
      ],
      "text/plain": [
       "                        attribute  avg rating\n",
       "0           Coffee C - Bitterness         3.1\n",
       "1              Coffee C - Acidity         2.4\n",
       "2  Coffee C - Personal Preference         3.1"
      ]
     },
     "execution_count": 41,
     "metadata": {},
     "output_type": "execute_result"
    }
   ],
   "source": [
    "selected_columns = ['Coffee C - Bitterness', 'Coffee C - Acidity', 'Coffee C - Personal Preference']\n",
    "coffee_C = df[selected_columns].mean().round(1).reset_index()\n",
    "coffee_C.columns=['attribute','avg rating']\n",
    "coffee_C"
   ]
  },
  {
   "cell_type": "code",
   "execution_count": 42,
   "id": "f3e4d5c5",
   "metadata": {},
   "outputs": [
    {
     "data": {
      "text/html": [
       "<div>\n",
       "<style scoped>\n",
       "    .dataframe tbody tr th:only-of-type {\n",
       "        vertical-align: middle;\n",
       "    }\n",
       "\n",
       "    .dataframe tbody tr th {\n",
       "        vertical-align: top;\n",
       "    }\n",
       "\n",
       "    .dataframe thead th {\n",
       "        text-align: right;\n",
       "    }\n",
       "</style>\n",
       "<table border=\"1\" class=\"dataframe\">\n",
       "  <thead>\n",
       "    <tr style=\"text-align: right;\">\n",
       "      <th></th>\n",
       "      <th>attribute</th>\n",
       "      <th>avg rating</th>\n",
       "    </tr>\n",
       "  </thead>\n",
       "  <tbody>\n",
       "    <tr>\n",
       "      <th>0</th>\n",
       "      <td>Coffee D - Bitterness</td>\n",
       "      <td>2.2</td>\n",
       "    </tr>\n",
       "    <tr>\n",
       "      <th>1</th>\n",
       "      <td>Coffee D - Acidity</td>\n",
       "      <td>3.9</td>\n",
       "    </tr>\n",
       "    <tr>\n",
       "      <th>2</th>\n",
       "      <td>Coffee D - Personal Preference</td>\n",
       "      <td>3.4</td>\n",
       "    </tr>\n",
       "  </tbody>\n",
       "</table>\n",
       "</div>"
      ],
      "text/plain": [
       "                        attribute  avg rating\n",
       "0           Coffee D - Bitterness         2.2\n",
       "1              Coffee D - Acidity         3.9\n",
       "2  Coffee D - Personal Preference         3.4"
      ]
     },
     "execution_count": 42,
     "metadata": {},
     "output_type": "execute_result"
    }
   ],
   "source": [
    "selected_columns = ['Coffee D - Bitterness', 'Coffee D - Acidity', 'Coffee D - Personal Preference']\n",
    "coffee_D = df[selected_columns].mean().round(1).reset_index()\n",
    "coffee_D.columns=['attribute','avg rating']\n",
    "coffee_D"
   ]
  },
  {
   "cell_type": "code",
   "execution_count": 43,
   "id": "567d8c46",
   "metadata": {},
   "outputs": [
    {
     "data": {
      "text/html": [
       "<div>\n",
       "<style scoped>\n",
       "    .dataframe tbody tr th:only-of-type {\n",
       "        vertical-align: middle;\n",
       "    }\n",
       "\n",
       "    .dataframe tbody tr th {\n",
       "        vertical-align: top;\n",
       "    }\n",
       "\n",
       "    .dataframe thead th {\n",
       "        text-align: right;\n",
       "    }\n",
       "</style>\n",
       "<table border=\"1\" class=\"dataframe\">\n",
       "  <thead>\n",
       "    <tr style=\"text-align: right;\">\n",
       "      <th></th>\n",
       "      <th>Preference between Coffee A,  B, and C</th>\n",
       "      <th>count</th>\n",
       "    </tr>\n",
       "  </thead>\n",
       "  <tbody>\n",
       "    <tr>\n",
       "      <th>0</th>\n",
       "      <td>Coffee A</td>\n",
       "      <td>1682</td>\n",
       "    </tr>\n",
       "    <tr>\n",
       "      <th>1</th>\n",
       "      <td>Coffee C</td>\n",
       "      <td>1058</td>\n",
       "    </tr>\n",
       "    <tr>\n",
       "      <th>2</th>\n",
       "      <td>Coffee B</td>\n",
       "      <td>1032</td>\n",
       "    </tr>\n",
       "  </tbody>\n",
       "</table>\n",
       "</div>"
      ],
      "text/plain": [
       "  Preference between Coffee A,  B, and C   count\n",
       "0                                Coffee A   1682\n",
       "1                                Coffee C   1058\n",
       "2                                Coffee B   1032"
      ]
     },
     "execution_count": 43,
     "metadata": {},
     "output_type": "execute_result"
    }
   ],
   "source": [
    "ABC=df['Preference between Coffee A,  B, and C '].value_counts().reset_index(name='count')\n",
    "ABC"
   ]
  },
  {
   "cell_type": "code",
   "execution_count": 44,
   "id": "5f88c858",
   "metadata": {},
   "outputs": [
    {
     "data": {
      "text/html": [
       "<div>\n",
       "<style scoped>\n",
       "    .dataframe tbody tr th:only-of-type {\n",
       "        vertical-align: middle;\n",
       "    }\n",
       "\n",
       "    .dataframe tbody tr th {\n",
       "        vertical-align: top;\n",
       "    }\n",
       "\n",
       "    .dataframe thead th {\n",
       "        text-align: right;\n",
       "    }\n",
       "</style>\n",
       "<table border=\"1\" class=\"dataframe\">\n",
       "  <thead>\n",
       "    <tr style=\"text-align: right;\">\n",
       "      <th></th>\n",
       "      <th>Preference between Coffee A and  D</th>\n",
       "      <th>count</th>\n",
       "    </tr>\n",
       "  </thead>\n",
       "  <tbody>\n",
       "    <tr>\n",
       "      <th>0</th>\n",
       "      <td>Coffee D</td>\n",
       "      <td>2015</td>\n",
       "    </tr>\n",
       "    <tr>\n",
       "      <th>1</th>\n",
       "      <td>Coffee A</td>\n",
       "      <td>1746</td>\n",
       "    </tr>\n",
       "  </tbody>\n",
       "</table>\n",
       "</div>"
      ],
      "text/plain": [
       "  Preference between Coffee A and  D  count\n",
       "0                           Coffee D   2015\n",
       "1                           Coffee A   1746"
      ]
     },
     "execution_count": 44,
     "metadata": {},
     "output_type": "execute_result"
    }
   ],
   "source": [
    "AD=df['Preference between Coffee A and  D'].value_counts().reset_index(name='count')\n",
    "AD"
   ]
  },
  {
   "cell_type": "code",
   "execution_count": 45,
   "id": "0aa20777",
   "metadata": {},
   "outputs": [
    {
     "data": {
      "text/html": [
       "<div>\n",
       "<style scoped>\n",
       "    .dataframe tbody tr th:only-of-type {\n",
       "        vertical-align: middle;\n",
       "    }\n",
       "\n",
       "    .dataframe tbody tr th {\n",
       "        vertical-align: top;\n",
       "    }\n",
       "\n",
       "    .dataframe thead th {\n",
       "        text-align: right;\n",
       "    }\n",
       "</style>\n",
       "<table border=\"1\" class=\"dataframe\">\n",
       "  <thead>\n",
       "    <tr style=\"text-align: right;\">\n",
       "      <th></th>\n",
       "      <th>Favorite overall coffee</th>\n",
       "      <th>count</th>\n",
       "    </tr>\n",
       "  </thead>\n",
       "  <tbody>\n",
       "    <tr>\n",
       "      <th>0</th>\n",
       "      <td>Coffee D</td>\n",
       "      <td>1385</td>\n",
       "    </tr>\n",
       "    <tr>\n",
       "      <th>1</th>\n",
       "      <td>Coffee A</td>\n",
       "      <td>818</td>\n",
       "    </tr>\n",
       "    <tr>\n",
       "      <th>2</th>\n",
       "      <td>Coffee C</td>\n",
       "      <td>784</td>\n",
       "    </tr>\n",
       "    <tr>\n",
       "      <th>3</th>\n",
       "      <td>Coffee B</td>\n",
       "      <td>783</td>\n",
       "    </tr>\n",
       "  </tbody>\n",
       "</table>\n",
       "</div>"
      ],
      "text/plain": [
       "  Favorite overall coffee  count\n",
       "0                Coffee D   1385\n",
       "1                Coffee A    818\n",
       "2                Coffee C    784\n",
       "3                Coffee B    783"
      ]
     },
     "execution_count": 45,
     "metadata": {},
     "output_type": "execute_result"
    }
   ],
   "source": [
    "ABCD=df['Favorite overall coffee'].value_counts().reset_index(name='count')\n",
    "ABCD"
   ]
  },
  {
   "cell_type": "code",
   "execution_count": 46,
   "id": "a119adce",
   "metadata": {},
   "outputs": [
    {
     "data": {
      "text/html": [
       "<div>\n",
       "<style scoped>\n",
       "    .dataframe tbody tr th:only-of-type {\n",
       "        vertical-align: middle;\n",
       "    }\n",
       "\n",
       "    .dataframe tbody tr th {\n",
       "        vertical-align: top;\n",
       "    }\n",
       "\n",
       "    .dataframe thead th {\n",
       "        text-align: right;\n",
       "    }\n",
       "</style>\n",
       "<table border=\"1\" class=\"dataframe\">\n",
       "  <thead>\n",
       "    <tr style=\"text-align: right;\">\n",
       "      <th></th>\n",
       "      <th>reasons</th>\n",
       "      <th>count</th>\n",
       "    </tr>\n",
       "  </thead>\n",
       "  <tbody>\n",
       "    <tr>\n",
       "      <th>0</th>\n",
       "      <td>It tastes good</td>\n",
       "      <td>3355.0</td>\n",
       "    </tr>\n",
       "    <tr>\n",
       "      <th>1</th>\n",
       "      <td>I need the caffeine</td>\n",
       "      <td>2021.0</td>\n",
       "    </tr>\n",
       "    <tr>\n",
       "      <th>2</th>\n",
       "      <td>I need the ritual</td>\n",
       "      <td>1922.0</td>\n",
       "    </tr>\n",
       "    <tr>\n",
       "      <th>3</th>\n",
       "      <td>Coffee makes me go to the bathroom</td>\n",
       "      <td>465.0</td>\n",
       "    </tr>\n",
       "    <tr>\n",
       "      <th>4</th>\n",
       "      <td>Others</td>\n",
       "      <td>168.0</td>\n",
       "    </tr>\n",
       "  </tbody>\n",
       "</table>\n",
       "</div>"
      ],
      "text/plain": [
       "                              reasons   count\n",
       "0                      It tastes good  3355.0\n",
       "1                 I need the caffeine  2021.0\n",
       "2                   I need the ritual  1922.0\n",
       "3  Coffee makes me go to the bathroom   465.0\n",
       "4                              Others   168.0"
      ]
     },
     "execution_count": 46,
     "metadata": {},
     "output_type": "execute_result"
    }
   ],
   "source": [
    "reason={'reasons':['It tastes good','I need the caffeine','I need the ritual','Coffee makes me go to the bathroom','Others'],\n",
    "        'count':[df['It tastes good'].sum(),df['I need the caffeine'].sum(),df['I need the ritual'].sum(),df['Coffee makes me go to the bathroom'].sum(),df['Other reasons to drink coffee'].sum()]}\n",
    "index=range(5)\n",
    "reason=pd.DataFrame(reason,index=index)\n",
    "reason"
   ]
  },
  {
   "cell_type": "code",
   "execution_count": 47,
   "id": "3d2bdb37",
   "metadata": {},
   "outputs": [
    {
     "data": {
      "text/html": [
       "<div>\n",
       "<style scoped>\n",
       "    .dataframe tbody tr th:only-of-type {\n",
       "        vertical-align: middle;\n",
       "    }\n",
       "\n",
       "    .dataframe tbody tr th {\n",
       "        vertical-align: top;\n",
       "    }\n",
       "\n",
       "    .dataframe thead th {\n",
       "        text-align: right;\n",
       "    }\n",
       "</style>\n",
       "<table border=\"1\" class=\"dataframe\">\n",
       "  <thead>\n",
       "    <tr style=\"text-align: right;\">\n",
       "      <th></th>\n",
       "      <th>Like the taste of coffee</th>\n",
       "      <th>count</th>\n",
       "    </tr>\n",
       "  </thead>\n",
       "  <tbody>\n",
       "    <tr>\n",
       "      <th>0</th>\n",
       "      <td>Yes</td>\n",
       "      <td>3460</td>\n",
       "    </tr>\n",
       "    <tr>\n",
       "      <th>1</th>\n",
       "      <td>No</td>\n",
       "      <td>103</td>\n",
       "    </tr>\n",
       "  </tbody>\n",
       "</table>\n",
       "</div>"
      ],
      "text/plain": [
       "  Like the taste of coffee  count\n",
       "0                      Yes   3460\n",
       "1                       No    103"
      ]
     },
     "execution_count": 47,
     "metadata": {},
     "output_type": "execute_result"
    }
   ],
   "source": [
    "like=df['Like the taste of coffee'].value_counts().reset_index(name='count')\n",
    "like"
   ]
  },
  {
   "cell_type": "code",
   "execution_count": 48,
   "id": "6127d810",
   "metadata": {},
   "outputs": [
    {
     "data": {
      "text/html": [
       "<div>\n",
       "<style scoped>\n",
       "    .dataframe tbody tr th:only-of-type {\n",
       "        vertical-align: middle;\n",
       "    }\n",
       "\n",
       "    .dataframe tbody tr th {\n",
       "        vertical-align: top;\n",
       "    }\n",
       "\n",
       "    .dataframe thead th {\n",
       "        text-align: right;\n",
       "    }\n",
       "</style>\n",
       "<table border=\"1\" class=\"dataframe\">\n",
       "  <thead>\n",
       "    <tr style=\"text-align: right;\">\n",
       "      <th></th>\n",
       "      <th>Know coffee origins</th>\n",
       "      <th>count</th>\n",
       "    </tr>\n",
       "  </thead>\n",
       "  <tbody>\n",
       "    <tr>\n",
       "      <th>0</th>\n",
       "      <td>Yes</td>\n",
       "      <td>2720</td>\n",
       "    </tr>\n",
       "    <tr>\n",
       "      <th>1</th>\n",
       "      <td>No</td>\n",
       "      <td>839</td>\n",
       "    </tr>\n",
       "  </tbody>\n",
       "</table>\n",
       "</div>"
      ],
      "text/plain": [
       "  Know coffee origins  count\n",
       "0                 Yes   2720\n",
       "1                  No    839"
      ]
     },
     "execution_count": 48,
     "metadata": {},
     "output_type": "execute_result"
    }
   ],
   "source": [
    "origin=df['Know coffee origins'].value_counts().reset_index(name='count')\n",
    "origin"
   ]
  },
  {
   "cell_type": "code",
   "execution_count": 49,
   "id": "c700e1b0",
   "metadata": {},
   "outputs": [
    {
     "data": {
      "text/html": [
       "<div>\n",
       "<style scoped>\n",
       "    .dataframe tbody tr th:only-of-type {\n",
       "        vertical-align: middle;\n",
       "    }\n",
       "\n",
       "    .dataframe tbody tr th {\n",
       "        vertical-align: top;\n",
       "    }\n",
       "\n",
       "    .dataframe thead th {\n",
       "        text-align: right;\n",
       "    }\n",
       "</style>\n",
       "<table border=\"1\" class=\"dataframe\">\n",
       "  <thead>\n",
       "    <tr style=\"text-align: right;\">\n",
       "      <th></th>\n",
       "      <th>Maximum ever paid for a cup of coffee</th>\n",
       "      <th>count</th>\n",
       "      <th>percentage</th>\n",
       "    </tr>\n",
       "  </thead>\n",
       "  <tbody>\n",
       "    <tr>\n",
       "      <th>0</th>\n",
       "      <td>$6-$8</td>\n",
       "      <td>1095</td>\n",
       "      <td>0.31</td>\n",
       "    </tr>\n",
       "    <tr>\n",
       "      <th>1</th>\n",
       "      <td>$8-$10</td>\n",
       "      <td>1000</td>\n",
       "      <td>0.28</td>\n",
       "    </tr>\n",
       "    <tr>\n",
       "      <th>2</th>\n",
       "      <td>$10-$15</td>\n",
       "      <td>616</td>\n",
       "      <td>0.17</td>\n",
       "    </tr>\n",
       "    <tr>\n",
       "      <th>3</th>\n",
       "      <td>$4-$6</td>\n",
       "      <td>451</td>\n",
       "      <td>0.13</td>\n",
       "    </tr>\n",
       "    <tr>\n",
       "      <th>4</th>\n",
       "      <td>$15-$20</td>\n",
       "      <td>181</td>\n",
       "      <td>0.05</td>\n",
       "    </tr>\n",
       "    <tr>\n",
       "      <th>5</th>\n",
       "      <td>More than $20</td>\n",
       "      <td>129</td>\n",
       "      <td>0.04</td>\n",
       "    </tr>\n",
       "    <tr>\n",
       "      <th>6</th>\n",
       "      <td>$2-$4</td>\n",
       "      <td>43</td>\n",
       "      <td>0.01</td>\n",
       "    </tr>\n",
       "    <tr>\n",
       "      <th>7</th>\n",
       "      <td>Less than $2</td>\n",
       "      <td>12</td>\n",
       "      <td>0.00</td>\n",
       "    </tr>\n",
       "  </tbody>\n",
       "</table>\n",
       "</div>"
      ],
      "text/plain": [
       "  Maximum ever paid for a cup of coffee  count  percentage\n",
       "0                                 $6-$8   1095        0.31\n",
       "1                                $8-$10   1000        0.28\n",
       "2                               $10-$15    616        0.17\n",
       "3                                 $4-$6    451        0.13\n",
       "4                               $15-$20    181        0.05\n",
       "5                         More than $20    129        0.04\n",
       "6                                 $2-$4     43        0.01\n",
       "7                          Less than $2     12        0.00"
      ]
     },
     "execution_count": 49,
     "metadata": {},
     "output_type": "execute_result"
    }
   ],
   "source": [
    "max_paid=df['Maximum ever paid for a cup of coffee'].value_counts().reset_index(name='count')\n",
    "max_paid['percentage']=(max_paid['count']/max_paid['count'].sum()).round(2)\n",
    "max_paid"
   ]
  },
  {
   "cell_type": "code",
   "execution_count": 50,
   "id": "60f900f9",
   "metadata": {},
   "outputs": [
    {
     "data": {
      "text/html": [
       "<div>\n",
       "<style scoped>\n",
       "    .dataframe tbody tr th:only-of-type {\n",
       "        vertical-align: middle;\n",
       "    }\n",
       "\n",
       "    .dataframe tbody tr th {\n",
       "        vertical-align: top;\n",
       "    }\n",
       "\n",
       "    .dataframe thead th {\n",
       "        text-align: right;\n",
       "    }\n",
       "</style>\n",
       "<table border=\"1\" class=\"dataframe\">\n",
       "  <thead>\n",
       "    <tr style=\"text-align: right;\">\n",
       "      <th></th>\n",
       "      <th>Maximun price for a cup of coffee</th>\n",
       "      <th>count</th>\n",
       "      <th>percentage</th>\n",
       "    </tr>\n",
       "  </thead>\n",
       "  <tbody>\n",
       "    <tr>\n",
       "      <th>0</th>\n",
       "      <td>$8-$10</td>\n",
       "      <td>880</td>\n",
       "      <td>0.25</td>\n",
       "    </tr>\n",
       "    <tr>\n",
       "      <th>1</th>\n",
       "      <td>$10-$15</td>\n",
       "      <td>652</td>\n",
       "      <td>0.19</td>\n",
       "    </tr>\n",
       "    <tr>\n",
       "      <th>2</th>\n",
       "      <td>$6-$8</td>\n",
       "      <td>641</td>\n",
       "      <td>0.18</td>\n",
       "    </tr>\n",
       "    <tr>\n",
       "      <th>3</th>\n",
       "      <td>More than $20</td>\n",
       "      <td>576</td>\n",
       "      <td>0.16</td>\n",
       "    </tr>\n",
       "    <tr>\n",
       "      <th>4</th>\n",
       "      <td>$4-$6</td>\n",
       "      <td>332</td>\n",
       "      <td>0.09</td>\n",
       "    </tr>\n",
       "    <tr>\n",
       "      <th>5</th>\n",
       "      <td>$15-$20</td>\n",
       "      <td>327</td>\n",
       "      <td>0.09</td>\n",
       "    </tr>\n",
       "    <tr>\n",
       "      <th>6</th>\n",
       "      <td>$2-$4</td>\n",
       "      <td>83</td>\n",
       "      <td>0.02</td>\n",
       "    </tr>\n",
       "    <tr>\n",
       "      <th>7</th>\n",
       "      <td>Less than $2</td>\n",
       "      <td>19</td>\n",
       "      <td>0.01</td>\n",
       "    </tr>\n",
       "  </tbody>\n",
       "</table>\n",
       "</div>"
      ],
      "text/plain": [
       "  Maximun price for a cup of coffee  count  percentage\n",
       "0                            $8-$10    880        0.25\n",
       "1                           $10-$15    652        0.19\n",
       "2                             $6-$8    641        0.18\n",
       "3                     More than $20    576        0.16\n",
       "4                             $4-$6    332        0.09\n",
       "5                           $15-$20    327        0.09\n",
       "6                             $2-$4     83        0.02\n",
       "7                      Less than $2     19        0.01"
      ]
     },
     "execution_count": 50,
     "metadata": {},
     "output_type": "execute_result"
    }
   ],
   "source": [
    "max_acceptable=df['Maximun price for a cup of coffee'].value_counts().reset_index(name='count')\n",
    "max_acceptable['percentage']=(max_acceptable['count']/max_acceptable['count'].sum()).round(2)\n",
    "max_acceptable"
   ]
  },
  {
   "cell_type": "code",
   "execution_count": 51,
   "id": "1a9f35eb",
   "metadata": {},
   "outputs": [
    {
     "data": {
      "text/html": [
       "<div>\n",
       "<style scoped>\n",
       "    .dataframe tbody tr th:only-of-type {\n",
       "        vertical-align: middle;\n",
       "    }\n",
       "\n",
       "    .dataframe tbody tr th {\n",
       "        vertical-align: top;\n",
       "    }\n",
       "\n",
       "    .dataframe thead th {\n",
       "        text-align: right;\n",
       "    }\n",
       "</style>\n",
       "<table border=\"1\" class=\"dataframe\">\n",
       "  <thead>\n",
       "    <tr style=\"text-align: right;\">\n",
       "      <th></th>\n",
       "      <th>Satisfied with coffee from a café</th>\n",
       "      <th>count</th>\n",
       "    </tr>\n",
       "  </thead>\n",
       "  <tbody>\n",
       "    <tr>\n",
       "      <th>0</th>\n",
       "      <td>Yes</td>\n",
       "      <td>2048</td>\n",
       "    </tr>\n",
       "    <tr>\n",
       "      <th>1</th>\n",
       "      <td>No</td>\n",
       "      <td>1452</td>\n",
       "    </tr>\n",
       "  </tbody>\n",
       "</table>\n",
       "</div>"
      ],
      "text/plain": [
       "  Satisfied with coffee from a café  count\n",
       "0                               Yes   2048\n",
       "1                                No   1452"
      ]
     },
     "execution_count": 51,
     "metadata": {},
     "output_type": "execute_result"
    }
   ],
   "source": [
    "like_cafe=df['Satisfied with coffee from a café'].value_counts().reset_index(name='count')\n",
    "like_cafe"
   ]
  },
  {
   "cell_type": "code",
   "execution_count": 52,
   "id": "a84d113e",
   "metadata": {},
   "outputs": [
    {
     "data": {
      "text/html": [
       "<div>\n",
       "<style scoped>\n",
       "    .dataframe tbody tr th:only-of-type {\n",
       "        vertical-align: middle;\n",
       "    }\n",
       "\n",
       "    .dataframe tbody tr th {\n",
       "        vertical-align: top;\n",
       "    }\n",
       "\n",
       "    .dataframe thead th {\n",
       "        text-align: right;\n",
       "    }\n",
       "</style>\n",
       "<table border=\"1\" class=\"dataframe\">\n",
       "  <thead>\n",
       "    <tr style=\"text-align: right;\">\n",
       "      <th></th>\n",
       "      <th>Money spent on coffee equipment in the past 5 year</th>\n",
       "      <th>count</th>\n",
       "    </tr>\n",
       "  </thead>\n",
       "  <tbody>\n",
       "    <tr>\n",
       "      <th>0</th>\n",
       "      <td>More than $1,000</td>\n",
       "      <td>780</td>\n",
       "    </tr>\n",
       "    <tr>\n",
       "      <th>1</th>\n",
       "      <td>$100-$300</td>\n",
       "      <td>750</td>\n",
       "    </tr>\n",
       "    <tr>\n",
       "      <th>2</th>\n",
       "      <td>$500-$1000</td>\n",
       "      <td>642</td>\n",
       "    </tr>\n",
       "    <tr>\n",
       "      <th>3</th>\n",
       "      <td>$300-$500</td>\n",
       "      <td>597</td>\n",
       "    </tr>\n",
       "    <tr>\n",
       "      <th>4</th>\n",
       "      <td>$50-$100</td>\n",
       "      <td>310</td>\n",
       "    </tr>\n",
       "    <tr>\n",
       "      <th>5</th>\n",
       "      <td>Less than $20</td>\n",
       "      <td>239</td>\n",
       "    </tr>\n",
       "    <tr>\n",
       "      <th>6</th>\n",
       "      <td>$20-$50</td>\n",
       "      <td>188</td>\n",
       "    </tr>\n",
       "  </tbody>\n",
       "</table>\n",
       "</div>"
      ],
      "text/plain": [
       "  Money spent on coffee equipment in the past 5 year  count\n",
       "0                                   More than $1,000    780\n",
       "1                                          $100-$300    750\n",
       "2                                         $500-$1000    642\n",
       "3                                          $300-$500    597\n",
       "4                                           $50-$100    310\n",
       "5                                      Less than $20    239\n",
       "6                                            $20-$50    188"
      ]
     },
     "execution_count": 52,
     "metadata": {},
     "output_type": "execute_result"
    }
   ],
   "source": [
    "paid_equipment=df['Money spent on coffee equipment in the past 5 year'].value_counts().reset_index(name='count')\n",
    "paid_equipment"
   ]
  },
  {
   "cell_type": "code",
   "execution_count": 53,
   "id": "d32070d3",
   "metadata": {},
   "outputs": [
    {
     "data": {
      "text/html": [
       "<div>\n",
       "<style scoped>\n",
       "    .dataframe tbody tr th:only-of-type {\n",
       "        vertical-align: middle;\n",
       "    }\n",
       "\n",
       "    .dataframe tbody tr th {\n",
       "        vertical-align: top;\n",
       "    }\n",
       "\n",
       "    .dataframe thead th {\n",
       "        text-align: right;\n",
       "    }\n",
       "</style>\n",
       "<table border=\"1\" class=\"dataframe\">\n",
       "  <thead>\n",
       "    <tr style=\"text-align: right;\">\n",
       "      <th></th>\n",
       "      <th>Satisfied with coffee equipment</th>\n",
       "      <th>count</th>\n",
       "    </tr>\n",
       "  </thead>\n",
       "  <tbody>\n",
       "    <tr>\n",
       "      <th>0</th>\n",
       "      <td>Yes</td>\n",
       "      <td>3318</td>\n",
       "    </tr>\n",
       "    <tr>\n",
       "      <th>1</th>\n",
       "      <td>No</td>\n",
       "      <td>176</td>\n",
       "    </tr>\n",
       "  </tbody>\n",
       "</table>\n",
       "</div>"
      ],
      "text/plain": [
       "  Satisfied with coffee equipment  count\n",
       "0                             Yes   3318\n",
       "1                              No    176"
      ]
     },
     "execution_count": 53,
     "metadata": {},
     "output_type": "execute_result"
    }
   ],
   "source": [
    "like_equipment=df['Satisfied with coffee equipment'].value_counts().reset_index(name='count')\n",
    "like_equipment"
   ]
  },
  {
   "cell_type": "code",
   "execution_count": 54,
   "id": "0fac084d",
   "metadata": {},
   "outputs": [],
   "source": [
    "where.to_csv('where.csv')\n",
    "how.to_csv('how.csv')\n",
    "buy_where.to_csv('buy_where.csv')\n",
    "add.to_csv('add.csv')\n",
    "dairy.to_csv('dairy.csv')\n",
    "sweetener.to_csv('sweetener.csv')\n",
    "coffee_A.to_csv('coffee_A.csv')\n",
    "coffee_B.to_csv('coffee_B.csv')\n",
    "coffee_C.to_csv('coffee_C.csv')\n",
    "coffee_D.to_csv('coffee_D.csv')\n",
    "reason.to_csv('reason.csv')"
   ]
  }
 ],
 "metadata": {
  "kernelspec": {
   "display_name": "Python 3 (ipykernel)",
   "language": "python",
   "name": "python3"
  },
  "language_info": {
   "codemirror_mode": {
    "name": "ipython",
    "version": 3
   },
   "file_extension": ".py",
   "mimetype": "text/x-python",
   "name": "python",
   "nbconvert_exporter": "python",
   "pygments_lexer": "ipython3",
   "version": "3.11.5"
  }
 },
 "nbformat": 4,
 "nbformat_minor": 5
}
